{
 "cells": [
  {
   "cell_type": "markdown",
   "metadata": {},
   "source": [
    "<h4>Name : Reetesh Gopal Zope <br/>\n",
    "Student ID: 801138214 <br/>\n",
    "Email ID: rzope1@uncc.edu </h4>"
   ]
  },
  {
   "cell_type": "markdown",
   "metadata": {
    "id": "6hBpImrxWOEx"
   },
   "source": [
    "## Travel Package Purchase Prediction - Ensemble Technique and Hyperparameter tuning"
   ]
  },
  {
   "cell_type": "markdown",
   "metadata": {
    "id": "6uSZLTZMJy87"
   },
   "source": [
    "### Problem Statement\n",
    "\n",
    "<p>The company is seeking to enable and establish a viable business model in order to grow its customer base. Introducing a new package offering is one way to broaden the customer base. Currently, the company offers five different types of packages: basic, standard, deluxe, super deluxe, and king. Looking at data recorded in the previous year, company discovered that 18% of customers purchased the packages. The marketing cost, on the other hand, was quite high because customers were contacted at random without analyzing the available information. </p>\n",
    "<p>The company is now preparing to launch a new product called the Wellness Tourism Package. Wellness tourism is defined as travel that allows the traveller to maintain, improve, or begin a healthy lifestyle, as well as support or increase one's sense of well-being. However, this time the company wishes to leverage the available data of existing and potential customers in order to make marketing expenditure more efficient.</p>"
   ]
  },
  {
   "cell_type": "markdown",
   "metadata": {
    "id": "JMacV2C2WOE0"
   },
   "source": [
    "<h2>Data Dictionary</h2>\n",
    "\n",
    "Customer details:\n",
    "\n",
    "- CustomerID: Unique customer ID\n",
    "- ProdTaken: Whether the customer has purchased a package or not (0: No, 1: Yes)\n",
    "- Age: Age of customer\n",
    "- TypeofContact: How customer was contacted (Company Invited or Self Inquiry)\n",
    "- CityTier: City tier depends on the development of a city, population, facilities, and living standards. The categories are ordered i.e. Tier 1 > Tier 2 > Tier 3\n",
    "- Occupation: Occupation of customer\n",
    "- Gender: Gender of customer\n",
    "- NumberOfPersonVisiting: Total number of persons planning to take the trip with the customer\n",
    "- PreferredPropertyStar: Preferred hotel property rating by customer\n",
    "- MaritalStatus: Marital status of customer\n",
    "- NumberOfTrips: Average number of trips in a year by customer\n",
    "- Passport: The customer has a passport or not (0: No, 1: Yes)\n",
    "- OwnCar: Whether the customers own a car or not (0: No, 1: Yes)\n",
    "- NumberOfChildrenVisiting: Total number of children with age less than 5 planning to take the trip with the customer\n",
    "- Designation: Designation of the customer in the current organization\n",
    "- MonthlyIncome: Gross monthly income of the customer\n",
    "\n",
    "Customer interaction data: \n",
    "\n",
    "- PitchSatisfactionScore: Sales pitch satisfaction score\n",
    "- ProductPitched: Product pitched by the salesperson\n",
    "- NumberOfFollowups: Total number of follow-ups has been done by the salesperson after the sales pitch\n",
    "- DurationOfPitch: Duration of the pitch by a salesperson to the customer"
   ]
  },
  {
   "cell_type": "code",
   "execution_count": 1,
   "metadata": {
    "colab": {
     "base_uri": "https://localhost:8080/"
    },
    "id": "12UixJdRWOE2",
    "outputId": "9e02c394-996a-4b7b-81ab-504ffec45faa"
   },
   "outputs": [
    {
     "name": "stdout",
     "output_type": "stream",
     "text": [
      "Requirement already satisfied: xgboost in /usr/local/lib/python3.7/dist-packages (0.90)\n",
      "Requirement already satisfied: numpy in /usr/local/lib/python3.7/dist-packages (from xgboost) (1.19.5)\n",
      "Requirement already satisfied: scipy in /usr/local/lib/python3.7/dist-packages (from xgboost) (1.4.1)\n"
     ]
    }
   ],
   "source": [
    "!pip install xgboost"
   ]
  },
  {
   "cell_type": "code",
   "execution_count": 2,
   "metadata": {
    "id": "pF_KjRCpWOE3"
   },
   "outputs": [],
   "source": [
    "#Importing basic required libraries\n",
    "import pandas as pd\n",
    "import numpy as np\n",
    "import matplotlib.pyplot as plt\n",
    "%matplotlib inline\n",
    "import seaborn as sns"
   ]
  },
  {
   "cell_type": "code",
   "execution_count": 3,
   "metadata": {
    "colab": {
     "base_uri": "https://localhost:8080/",
     "height": 504
    },
    "id": "y3BdY2g1WOE4",
    "outputId": "d52f9257-8780-4de2-e708-b1d7fa8c278e"
   },
   "outputs": [
    {
     "data": {
      "text/html": [
       "<div>\n",
       "<style scoped>\n",
       "    .dataframe tbody tr th:only-of-type {\n",
       "        vertical-align: middle;\n",
       "    }\n",
       "\n",
       "    .dataframe tbody tr th {\n",
       "        vertical-align: top;\n",
       "    }\n",
       "\n",
       "    .dataframe thead th {\n",
       "        text-align: right;\n",
       "    }\n",
       "</style>\n",
       "<table border=\"1\" class=\"dataframe\">\n",
       "  <thead>\n",
       "    <tr style=\"text-align: right;\">\n",
       "      <th></th>\n",
       "      <th>CustomerID</th>\n",
       "      <th>ProdTaken</th>\n",
       "      <th>Age</th>\n",
       "      <th>TypeofContact</th>\n",
       "      <th>CityTier</th>\n",
       "      <th>DurationOfPitch</th>\n",
       "      <th>Occupation</th>\n",
       "      <th>Gender</th>\n",
       "      <th>NumberOfPersonVisiting</th>\n",
       "      <th>NumberOfFollowups</th>\n",
       "      <th>ProductPitched</th>\n",
       "      <th>PreferredPropertyStar</th>\n",
       "      <th>MaritalStatus</th>\n",
       "      <th>NumberOfTrips</th>\n",
       "      <th>Passport</th>\n",
       "      <th>PitchSatisfactionScore</th>\n",
       "      <th>OwnCar</th>\n",
       "      <th>NumberOfChildrenVisiting</th>\n",
       "      <th>Designation</th>\n",
       "      <th>MonthlyIncome</th>\n",
       "    </tr>\n",
       "  </thead>\n",
       "  <tbody>\n",
       "    <tr>\n",
       "      <th>0</th>\n",
       "      <td>200000</td>\n",
       "      <td>1</td>\n",
       "      <td>41.0</td>\n",
       "      <td>Self Enquiry</td>\n",
       "      <td>3</td>\n",
       "      <td>6.0</td>\n",
       "      <td>Salaried</td>\n",
       "      <td>Female</td>\n",
       "      <td>3</td>\n",
       "      <td>3.0</td>\n",
       "      <td>Deluxe</td>\n",
       "      <td>3.0</td>\n",
       "      <td>Single</td>\n",
       "      <td>1.0</td>\n",
       "      <td>1</td>\n",
       "      <td>2</td>\n",
       "      <td>1</td>\n",
       "      <td>0.0</td>\n",
       "      <td>Manager</td>\n",
       "      <td>20993.0</td>\n",
       "    </tr>\n",
       "    <tr>\n",
       "      <th>1</th>\n",
       "      <td>200001</td>\n",
       "      <td>0</td>\n",
       "      <td>49.0</td>\n",
       "      <td>Company Invited</td>\n",
       "      <td>1</td>\n",
       "      <td>14.0</td>\n",
       "      <td>Salaried</td>\n",
       "      <td>Male</td>\n",
       "      <td>3</td>\n",
       "      <td>4.0</td>\n",
       "      <td>Deluxe</td>\n",
       "      <td>4.0</td>\n",
       "      <td>Divorced</td>\n",
       "      <td>2.0</td>\n",
       "      <td>0</td>\n",
       "      <td>3</td>\n",
       "      <td>1</td>\n",
       "      <td>2.0</td>\n",
       "      <td>Manager</td>\n",
       "      <td>20130.0</td>\n",
       "    </tr>\n",
       "    <tr>\n",
       "      <th>2</th>\n",
       "      <td>200002</td>\n",
       "      <td>1</td>\n",
       "      <td>37.0</td>\n",
       "      <td>Self Enquiry</td>\n",
       "      <td>1</td>\n",
       "      <td>8.0</td>\n",
       "      <td>Free Lancer</td>\n",
       "      <td>Male</td>\n",
       "      <td>3</td>\n",
       "      <td>4.0</td>\n",
       "      <td>Basic</td>\n",
       "      <td>3.0</td>\n",
       "      <td>Single</td>\n",
       "      <td>7.0</td>\n",
       "      <td>1</td>\n",
       "      <td>3</td>\n",
       "      <td>0</td>\n",
       "      <td>0.0</td>\n",
       "      <td>Executive</td>\n",
       "      <td>17090.0</td>\n",
       "    </tr>\n",
       "    <tr>\n",
       "      <th>3</th>\n",
       "      <td>200003</td>\n",
       "      <td>0</td>\n",
       "      <td>33.0</td>\n",
       "      <td>Company Invited</td>\n",
       "      <td>1</td>\n",
       "      <td>9.0</td>\n",
       "      <td>Salaried</td>\n",
       "      <td>Female</td>\n",
       "      <td>2</td>\n",
       "      <td>3.0</td>\n",
       "      <td>Basic</td>\n",
       "      <td>3.0</td>\n",
       "      <td>Divorced</td>\n",
       "      <td>2.0</td>\n",
       "      <td>1</td>\n",
       "      <td>5</td>\n",
       "      <td>1</td>\n",
       "      <td>1.0</td>\n",
       "      <td>Executive</td>\n",
       "      <td>17909.0</td>\n",
       "    </tr>\n",
       "    <tr>\n",
       "      <th>4</th>\n",
       "      <td>200004</td>\n",
       "      <td>0</td>\n",
       "      <td>NaN</td>\n",
       "      <td>Self Enquiry</td>\n",
       "      <td>1</td>\n",
       "      <td>8.0</td>\n",
       "      <td>Small Business</td>\n",
       "      <td>Male</td>\n",
       "      <td>2</td>\n",
       "      <td>3.0</td>\n",
       "      <td>Basic</td>\n",
       "      <td>4.0</td>\n",
       "      <td>Divorced</td>\n",
       "      <td>1.0</td>\n",
       "      <td>0</td>\n",
       "      <td>5</td>\n",
       "      <td>1</td>\n",
       "      <td>0.0</td>\n",
       "      <td>Executive</td>\n",
       "      <td>18468.0</td>\n",
       "    </tr>\n",
       "    <tr>\n",
       "      <th>5</th>\n",
       "      <td>200005</td>\n",
       "      <td>0</td>\n",
       "      <td>32.0</td>\n",
       "      <td>Company Invited</td>\n",
       "      <td>1</td>\n",
       "      <td>8.0</td>\n",
       "      <td>Salaried</td>\n",
       "      <td>Male</td>\n",
       "      <td>3</td>\n",
       "      <td>3.0</td>\n",
       "      <td>Basic</td>\n",
       "      <td>3.0</td>\n",
       "      <td>Single</td>\n",
       "      <td>1.0</td>\n",
       "      <td>0</td>\n",
       "      <td>5</td>\n",
       "      <td>1</td>\n",
       "      <td>1.0</td>\n",
       "      <td>Executive</td>\n",
       "      <td>18068.0</td>\n",
       "    </tr>\n",
       "    <tr>\n",
       "      <th>6</th>\n",
       "      <td>200006</td>\n",
       "      <td>0</td>\n",
       "      <td>59.0</td>\n",
       "      <td>Self Enquiry</td>\n",
       "      <td>1</td>\n",
       "      <td>9.0</td>\n",
       "      <td>Small Business</td>\n",
       "      <td>Female</td>\n",
       "      <td>2</td>\n",
       "      <td>2.0</td>\n",
       "      <td>Basic</td>\n",
       "      <td>5.0</td>\n",
       "      <td>Divorced</td>\n",
       "      <td>5.0</td>\n",
       "      <td>1</td>\n",
       "      <td>2</td>\n",
       "      <td>1</td>\n",
       "      <td>1.0</td>\n",
       "      <td>Executive</td>\n",
       "      <td>17670.0</td>\n",
       "    </tr>\n",
       "    <tr>\n",
       "      <th>7</th>\n",
       "      <td>200007</td>\n",
       "      <td>0</td>\n",
       "      <td>30.0</td>\n",
       "      <td>Self Enquiry</td>\n",
       "      <td>1</td>\n",
       "      <td>30.0</td>\n",
       "      <td>Salaried</td>\n",
       "      <td>Male</td>\n",
       "      <td>3</td>\n",
       "      <td>3.0</td>\n",
       "      <td>Basic</td>\n",
       "      <td>3.0</td>\n",
       "      <td>Married</td>\n",
       "      <td>2.0</td>\n",
       "      <td>0</td>\n",
       "      <td>2</td>\n",
       "      <td>0</td>\n",
       "      <td>1.0</td>\n",
       "      <td>Executive</td>\n",
       "      <td>17693.0</td>\n",
       "    </tr>\n",
       "    <tr>\n",
       "      <th>8</th>\n",
       "      <td>200008</td>\n",
       "      <td>0</td>\n",
       "      <td>38.0</td>\n",
       "      <td>Company Invited</td>\n",
       "      <td>1</td>\n",
       "      <td>29.0</td>\n",
       "      <td>Salaried</td>\n",
       "      <td>Male</td>\n",
       "      <td>2</td>\n",
       "      <td>4.0</td>\n",
       "      <td>Standard</td>\n",
       "      <td>3.0</td>\n",
       "      <td>Unmarried</td>\n",
       "      <td>1.0</td>\n",
       "      <td>0</td>\n",
       "      <td>3</td>\n",
       "      <td>0</td>\n",
       "      <td>0.0</td>\n",
       "      <td>Senior Manager</td>\n",
       "      <td>24526.0</td>\n",
       "    </tr>\n",
       "    <tr>\n",
       "      <th>9</th>\n",
       "      <td>200009</td>\n",
       "      <td>0</td>\n",
       "      <td>36.0</td>\n",
       "      <td>Self Enquiry</td>\n",
       "      <td>1</td>\n",
       "      <td>33.0</td>\n",
       "      <td>Small Business</td>\n",
       "      <td>Male</td>\n",
       "      <td>3</td>\n",
       "      <td>3.0</td>\n",
       "      <td>Deluxe</td>\n",
       "      <td>3.0</td>\n",
       "      <td>Divorced</td>\n",
       "      <td>7.0</td>\n",
       "      <td>0</td>\n",
       "      <td>3</td>\n",
       "      <td>1</td>\n",
       "      <td>0.0</td>\n",
       "      <td>Manager</td>\n",
       "      <td>20237.0</td>\n",
       "    </tr>\n",
       "  </tbody>\n",
       "</table>\n",
       "</div>"
      ],
      "text/plain": [
       "   CustomerID  ProdTaken  ...     Designation MonthlyIncome\n",
       "0      200000          1  ...         Manager       20993.0\n",
       "1      200001          0  ...         Manager       20130.0\n",
       "2      200002          1  ...       Executive       17090.0\n",
       "3      200003          0  ...       Executive       17909.0\n",
       "4      200004          0  ...       Executive       18468.0\n",
       "5      200005          0  ...       Executive       18068.0\n",
       "6      200006          0  ...       Executive       17670.0\n",
       "7      200007          0  ...       Executive       17693.0\n",
       "8      200008          0  ...  Senior Manager       24526.0\n",
       "9      200009          0  ...         Manager       20237.0\n",
       "\n",
       "[10 rows x 20 columns]"
      ]
     },
     "execution_count": 3,
     "metadata": {},
     "output_type": "execute_result"
    }
   ],
   "source": [
    "#Importing dataset\n",
    "df_tpkg = pd.read_csv('tour_package.csv')\n",
    "\n",
    "#Showing 1st 10 rows of dataset\n",
    "df_tpkg.head(10)"
   ]
  },
  {
   "cell_type": "code",
   "execution_count": 4,
   "metadata": {
    "colab": {
     "base_uri": "https://localhost:8080/"
    },
    "id": "jPx1zmKhWOE4",
    "outputId": "deea2e8c-3467-4e3a-b27d-25fc9910ca3f"
   },
   "outputs": [
    {
     "name": "stdout",
     "output_type": "stream",
     "text": [
      "<class 'pandas.core.frame.DataFrame'>\n",
      "RangeIndex: 4888 entries, 0 to 4887\n",
      "Data columns (total 20 columns):\n",
      " #   Column                    Non-Null Count  Dtype  \n",
      "---  ------                    --------------  -----  \n",
      " 0   CustomerID                4888 non-null   int64  \n",
      " 1   ProdTaken                 4888 non-null   int64  \n",
      " 2   Age                       4662 non-null   float64\n",
      " 3   TypeofContact             4863 non-null   object \n",
      " 4   CityTier                  4888 non-null   int64  \n",
      " 5   DurationOfPitch           4637 non-null   float64\n",
      " 6   Occupation                4888 non-null   object \n",
      " 7   Gender                    4888 non-null   object \n",
      " 8   NumberOfPersonVisiting    4888 non-null   int64  \n",
      " 9   NumberOfFollowups         4843 non-null   float64\n",
      " 10  ProductPitched            4888 non-null   object \n",
      " 11  PreferredPropertyStar     4862 non-null   float64\n",
      " 12  MaritalStatus             4888 non-null   object \n",
      " 13  NumberOfTrips             4748 non-null   float64\n",
      " 14  Passport                  4888 non-null   int64  \n",
      " 15  PitchSatisfactionScore    4888 non-null   int64  \n",
      " 16  OwnCar                    4888 non-null   int64  \n",
      " 17  NumberOfChildrenVisiting  4822 non-null   float64\n",
      " 18  Designation               4888 non-null   object \n",
      " 19  MonthlyIncome             4655 non-null   float64\n",
      "dtypes: float64(7), int64(7), object(6)\n",
      "memory usage: 763.9+ KB\n"
     ]
    }
   ],
   "source": [
    "#Checking the data types of the columns for the dataset.\n",
    "df_tpkg.info()"
   ]
  },
  {
   "cell_type": "code",
   "execution_count": 5,
   "metadata": {
    "colab": {
     "base_uri": "https://localhost:8080/",
     "height": 488
    },
    "id": "kMX3Pd0BWOE5",
    "outputId": "c2c11f5d-ff4a-41c8-9e11-5b78bae03f13"
   },
   "outputs": [
    {
     "data": {
      "text/html": [
       "<div>\n",
       "<style scoped>\n",
       "    .dataframe tbody tr th:only-of-type {\n",
       "        vertical-align: middle;\n",
       "    }\n",
       "\n",
       "    .dataframe tbody tr th {\n",
       "        vertical-align: top;\n",
       "    }\n",
       "\n",
       "    .dataframe thead th {\n",
       "        text-align: right;\n",
       "    }\n",
       "</style>\n",
       "<table border=\"1\" class=\"dataframe\">\n",
       "  <thead>\n",
       "    <tr style=\"text-align: right;\">\n",
       "      <th></th>\n",
       "      <th>count</th>\n",
       "      <th>mean</th>\n",
       "      <th>std</th>\n",
       "      <th>min</th>\n",
       "      <th>25%</th>\n",
       "      <th>50%</th>\n",
       "      <th>75%</th>\n",
       "      <th>max</th>\n",
       "    </tr>\n",
       "  </thead>\n",
       "  <tbody>\n",
       "    <tr>\n",
       "      <th>CustomerID</th>\n",
       "      <td>4888.0</td>\n",
       "      <td>202443.500000</td>\n",
       "      <td>1411.188388</td>\n",
       "      <td>200000.0</td>\n",
       "      <td>201221.75</td>\n",
       "      <td>202443.5</td>\n",
       "      <td>203665.25</td>\n",
       "      <td>204887.0</td>\n",
       "    </tr>\n",
       "    <tr>\n",
       "      <th>ProdTaken</th>\n",
       "      <td>4888.0</td>\n",
       "      <td>0.188216</td>\n",
       "      <td>0.390925</td>\n",
       "      <td>0.0</td>\n",
       "      <td>0.00</td>\n",
       "      <td>0.0</td>\n",
       "      <td>0.00</td>\n",
       "      <td>1.0</td>\n",
       "    </tr>\n",
       "    <tr>\n",
       "      <th>Age</th>\n",
       "      <td>4662.0</td>\n",
       "      <td>37.622265</td>\n",
       "      <td>9.316387</td>\n",
       "      <td>18.0</td>\n",
       "      <td>31.00</td>\n",
       "      <td>36.0</td>\n",
       "      <td>44.00</td>\n",
       "      <td>61.0</td>\n",
       "    </tr>\n",
       "    <tr>\n",
       "      <th>CityTier</th>\n",
       "      <td>4888.0</td>\n",
       "      <td>1.654255</td>\n",
       "      <td>0.916583</td>\n",
       "      <td>1.0</td>\n",
       "      <td>1.00</td>\n",
       "      <td>1.0</td>\n",
       "      <td>3.00</td>\n",
       "      <td>3.0</td>\n",
       "    </tr>\n",
       "    <tr>\n",
       "      <th>DurationOfPitch</th>\n",
       "      <td>4637.0</td>\n",
       "      <td>15.490835</td>\n",
       "      <td>8.519643</td>\n",
       "      <td>5.0</td>\n",
       "      <td>9.00</td>\n",
       "      <td>13.0</td>\n",
       "      <td>20.00</td>\n",
       "      <td>127.0</td>\n",
       "    </tr>\n",
       "    <tr>\n",
       "      <th>NumberOfPersonVisiting</th>\n",
       "      <td>4888.0</td>\n",
       "      <td>2.905074</td>\n",
       "      <td>0.724891</td>\n",
       "      <td>1.0</td>\n",
       "      <td>2.00</td>\n",
       "      <td>3.0</td>\n",
       "      <td>3.00</td>\n",
       "      <td>5.0</td>\n",
       "    </tr>\n",
       "    <tr>\n",
       "      <th>NumberOfFollowups</th>\n",
       "      <td>4843.0</td>\n",
       "      <td>3.708445</td>\n",
       "      <td>1.002509</td>\n",
       "      <td>1.0</td>\n",
       "      <td>3.00</td>\n",
       "      <td>4.0</td>\n",
       "      <td>4.00</td>\n",
       "      <td>6.0</td>\n",
       "    </tr>\n",
       "    <tr>\n",
       "      <th>PreferredPropertyStar</th>\n",
       "      <td>4862.0</td>\n",
       "      <td>3.581037</td>\n",
       "      <td>0.798009</td>\n",
       "      <td>3.0</td>\n",
       "      <td>3.00</td>\n",
       "      <td>3.0</td>\n",
       "      <td>4.00</td>\n",
       "      <td>5.0</td>\n",
       "    </tr>\n",
       "    <tr>\n",
       "      <th>NumberOfTrips</th>\n",
       "      <td>4748.0</td>\n",
       "      <td>3.236521</td>\n",
       "      <td>1.849019</td>\n",
       "      <td>1.0</td>\n",
       "      <td>2.00</td>\n",
       "      <td>3.0</td>\n",
       "      <td>4.00</td>\n",
       "      <td>22.0</td>\n",
       "    </tr>\n",
       "    <tr>\n",
       "      <th>Passport</th>\n",
       "      <td>4888.0</td>\n",
       "      <td>0.290917</td>\n",
       "      <td>0.454232</td>\n",
       "      <td>0.0</td>\n",
       "      <td>0.00</td>\n",
       "      <td>0.0</td>\n",
       "      <td>1.00</td>\n",
       "      <td>1.0</td>\n",
       "    </tr>\n",
       "    <tr>\n",
       "      <th>PitchSatisfactionScore</th>\n",
       "      <td>4888.0</td>\n",
       "      <td>3.078151</td>\n",
       "      <td>1.365792</td>\n",
       "      <td>1.0</td>\n",
       "      <td>2.00</td>\n",
       "      <td>3.0</td>\n",
       "      <td>4.00</td>\n",
       "      <td>5.0</td>\n",
       "    </tr>\n",
       "    <tr>\n",
       "      <th>OwnCar</th>\n",
       "      <td>4888.0</td>\n",
       "      <td>0.620295</td>\n",
       "      <td>0.485363</td>\n",
       "      <td>0.0</td>\n",
       "      <td>0.00</td>\n",
       "      <td>1.0</td>\n",
       "      <td>1.00</td>\n",
       "      <td>1.0</td>\n",
       "    </tr>\n",
       "    <tr>\n",
       "      <th>NumberOfChildrenVisiting</th>\n",
       "      <td>4822.0</td>\n",
       "      <td>1.187267</td>\n",
       "      <td>0.857861</td>\n",
       "      <td>0.0</td>\n",
       "      <td>1.00</td>\n",
       "      <td>1.0</td>\n",
       "      <td>2.00</td>\n",
       "      <td>3.0</td>\n",
       "    </tr>\n",
       "    <tr>\n",
       "      <th>MonthlyIncome</th>\n",
       "      <td>4655.0</td>\n",
       "      <td>23619.853491</td>\n",
       "      <td>5380.698361</td>\n",
       "      <td>1000.0</td>\n",
       "      <td>20346.00</td>\n",
       "      <td>22347.0</td>\n",
       "      <td>25571.00</td>\n",
       "      <td>98678.0</td>\n",
       "    </tr>\n",
       "  </tbody>\n",
       "</table>\n",
       "</div>"
      ],
      "text/plain": [
       "                           count           mean  ...        75%       max\n",
       "CustomerID                4888.0  202443.500000  ...  203665.25  204887.0\n",
       "ProdTaken                 4888.0       0.188216  ...       0.00       1.0\n",
       "Age                       4662.0      37.622265  ...      44.00      61.0\n",
       "CityTier                  4888.0       1.654255  ...       3.00       3.0\n",
       "DurationOfPitch           4637.0      15.490835  ...      20.00     127.0\n",
       "NumberOfPersonVisiting    4888.0       2.905074  ...       3.00       5.0\n",
       "NumberOfFollowups         4843.0       3.708445  ...       4.00       6.0\n",
       "PreferredPropertyStar     4862.0       3.581037  ...       4.00       5.0\n",
       "NumberOfTrips             4748.0       3.236521  ...       4.00      22.0\n",
       "Passport                  4888.0       0.290917  ...       1.00       1.0\n",
       "PitchSatisfactionScore    4888.0       3.078151  ...       4.00       5.0\n",
       "OwnCar                    4888.0       0.620295  ...       1.00       1.0\n",
       "NumberOfChildrenVisiting  4822.0       1.187267  ...       2.00       3.0\n",
       "MonthlyIncome             4655.0   23619.853491  ...   25571.00   98678.0\n",
       "\n",
       "[14 rows x 8 columns]"
      ]
     },
     "execution_count": 5,
     "metadata": {},
     "output_type": "execute_result"
    }
   ],
   "source": [
    "#Summarising the dataset\n",
    "df_tpkg.describe().T"
   ]
  },
  {
   "cell_type": "markdown",
   "metadata": {
    "id": "yy3pQNZ6WOE6"
   },
   "source": [
    "### Preprocessing the data"
   ]
  },
  {
   "cell_type": "code",
   "execution_count": 6,
   "metadata": {
    "id": "3C7jiDttWOE6"
   },
   "outputs": [],
   "source": [
    "#Dropping feature CustomerID as it has no significance in prediction.\n",
    "df_tpkg.drop(['CustomerID'],axis=1,inplace=True)"
   ]
  },
  {
   "cell_type": "code",
   "execution_count": 7,
   "metadata": {
    "id": "fcuqnN2oWOE6"
   },
   "outputs": [],
   "source": [
    "cat_cols = ['Designation','ProdTaken', 'OwnCar', 'Passport',\n",
    "            'CityTier','MaritalStatus',\n",
    "            'ProductPitched','Gender','Occupation','TypeofContact'\n",
    "            ]"
   ]
  },
  {
   "cell_type": "code",
   "execution_count": 8,
   "metadata": {
    "colab": {
     "base_uri": "https://localhost:8080/"
    },
    "id": "73lmDaiIWOE7",
    "outputId": "5f9b37d5-7f85-4b05-f442-2a3b566deadc"
   },
   "outputs": [
    {
     "name": "stdout",
     "output_type": "stream",
     "text": [
      "Unique values in Designation are :\n",
      "Executive         1842\n",
      "Manager           1732\n",
      "Senior Manager     742\n",
      "AVP                342\n",
      "VP                 230\n",
      "Name: Designation, dtype: int64\n",
      "**************************************************\n",
      "Unique values in ProdTaken are :\n",
      "0    3968\n",
      "1     920\n",
      "Name: ProdTaken, dtype: int64\n",
      "**************************************************\n",
      "Unique values in OwnCar are :\n",
      "1    3032\n",
      "0    1856\n",
      "Name: OwnCar, dtype: int64\n",
      "**************************************************\n",
      "Unique values in Passport are :\n",
      "0    3466\n",
      "1    1422\n",
      "Name: Passport, dtype: int64\n",
      "**************************************************\n",
      "Unique values in CityTier are :\n",
      "1    3190\n",
      "3    1500\n",
      "2     198\n",
      "Name: CityTier, dtype: int64\n",
      "**************************************************\n",
      "Unique values in MaritalStatus are :\n",
      "Married      2340\n",
      "Divorced      950\n",
      "Single        916\n",
      "Unmarried     682\n",
      "Name: MaritalStatus, dtype: int64\n",
      "**************************************************\n",
      "Unique values in ProductPitched are :\n",
      "Basic           1842\n",
      "Deluxe          1732\n",
      "Standard         742\n",
      "Super Deluxe     342\n",
      "King             230\n",
      "Name: ProductPitched, dtype: int64\n",
      "**************************************************\n",
      "Unique values in Gender are :\n",
      "Male       2916\n",
      "Female     1817\n",
      "Fe Male     155\n",
      "Name: Gender, dtype: int64\n",
      "**************************************************\n",
      "Unique values in Occupation are :\n",
      "Salaried          2368\n",
      "Small Business    2084\n",
      "Large Business     434\n",
      "Free Lancer          2\n",
      "Name: Occupation, dtype: int64\n",
      "**************************************************\n",
      "Unique values in TypeofContact are :\n",
      "Self Enquiry       3444\n",
      "Company Invited    1419\n",
      "Name: TypeofContact, dtype: int64\n",
      "**************************************************\n"
     ]
    }
   ],
   "source": [
    "for i in cat_cols:\n",
    "    print('Unique values in',i, 'are :')\n",
    "    print(df_tpkg[i].value_counts())\n",
    "    print('*'*50)"
   ]
  },
  {
   "cell_type": "code",
   "execution_count": 9,
   "metadata": {
    "colab": {
     "base_uri": "https://localhost:8080/"
    },
    "id": "mmg4qEUEWOE7",
    "outputId": "a5b283c5-12cf-4dce-cceb-a42620fc3d1c"
   },
   "outputs": [
    {
     "data": {
      "text/plain": [
       "Male       2916\n",
       "Female     1817\n",
       "Fe Male     155\n",
       "Name: Gender, dtype: int64"
      ]
     },
     "execution_count": 9,
     "metadata": {},
     "output_type": "execute_result"
    }
   ],
   "source": [
    "df_tpkg.Gender.value_counts()"
   ]
  },
  {
   "cell_type": "code",
   "execution_count": 10,
   "metadata": {
    "colab": {
     "base_uri": "https://localhost:8080/"
    },
    "id": "KcjqJnJZWOE7",
    "outputId": "e0bd244d-b2ff-4e7d-d870-97d4c8dab4b0"
   },
   "outputs": [
    {
     "name": "stdout",
     "output_type": "stream",
     "text": [
      "<class 'pandas.core.frame.DataFrame'>\n",
      "RangeIndex: 4888 entries, 0 to 4887\n",
      "Data columns (total 19 columns):\n",
      " #   Column                    Non-Null Count  Dtype   \n",
      "---  ------                    --------------  -----   \n",
      " 0   ProdTaken                 4888 non-null   category\n",
      " 1   Age                       4662 non-null   float64 \n",
      " 2   TypeofContact             4863 non-null   category\n",
      " 3   CityTier                  4888 non-null   category\n",
      " 4   DurationOfPitch           4637 non-null   float64 \n",
      " 5   Occupation                4888 non-null   category\n",
      " 6   Gender                    4888 non-null   category\n",
      " 7   NumberOfPersonVisiting    4888 non-null   int64   \n",
      " 8   NumberOfFollowups         4843 non-null   float64 \n",
      " 9   ProductPitched            4888 non-null   category\n",
      " 10  PreferredPropertyStar     4862 non-null   float64 \n",
      " 11  MaritalStatus             4888 non-null   category\n",
      " 12  NumberOfTrips             4748 non-null   float64 \n",
      " 13  Passport                  4888 non-null   category\n",
      " 14  PitchSatisfactionScore    4888 non-null   int64   \n",
      " 15  OwnCar                    4888 non-null   category\n",
      " 16  NumberOfChildrenVisiting  4822 non-null   float64 \n",
      " 17  Designation               4888 non-null   category\n",
      " 18  MonthlyIncome             4655 non-null   float64 \n",
      "dtypes: category(10), float64(7), int64(2)\n",
      "memory usage: 392.9 KB\n"
     ]
    }
   ],
   "source": [
    "## Converting the data type of categorical features to 'category'\n",
    "\n",
    "cat_cols = ['Designation','ProdTaken', 'OwnCar', 'Passport',\n",
    "            'CityTier','MaritalStatus',\n",
    "            'ProductPitched','Gender','Occupation','TypeofContact'\n",
    "            ]\n",
    "df_tpkg[cat_cols] = df_tpkg[cat_cols].astype('category')\n",
    "df_tpkg.info()"
   ]
  },
  {
   "cell_type": "markdown",
   "metadata": {
    "id": "yt8MyZ8_WOE8"
   },
   "source": [
    "### Imputing missing values"
   ]
  },
  {
   "cell_type": "code",
   "execution_count": 11,
   "metadata": {
    "colab": {
     "base_uri": "https://localhost:8080/"
    },
    "id": "8EN1ILwMWOE8",
    "outputId": "f3170729-52b6-4363-d97b-72e4a5621781"
   },
   "outputs": [
    {
     "data": {
      "text/plain": [
       "DurationOfPitch             251\n",
       "MonthlyIncome               233\n",
       "Age                         226\n",
       "NumberOfTrips               140\n",
       "NumberOfChildrenVisiting     66\n",
       "NumberOfFollowups            45\n",
       "PreferredPropertyStar        26\n",
       "TypeofContact                25\n",
       "Gender                        0\n",
       "CityTier                      0\n",
       "Occupation                    0\n",
       "ProductPitched                0\n",
       "NumberOfPersonVisiting        0\n",
       "Designation                   0\n",
       "MaritalStatus                 0\n",
       "Passport                      0\n",
       "PitchSatisfactionScore        0\n",
       "OwnCar                        0\n",
       "ProdTaken                     0\n",
       "dtype: int64"
      ]
     },
     "execution_count": 11,
     "metadata": {},
     "output_type": "execute_result"
    }
   ],
   "source": [
    "df_tpkg.isnull().sum().sort_values(ascending=False)"
   ]
  },
  {
   "cell_type": "code",
   "execution_count": 12,
   "metadata": {
    "colab": {
     "base_uri": "https://localhost:8080/"
    },
    "id": "-wS_VtpQWOE8",
    "outputId": "e41d6e0a-0226-4e6a-fbd7-d0806a3cd58f",
    "scrolled": true
   },
   "outputs": [
    {
     "data": {
      "text/plain": [
       "DurationOfPitch             5.14\n",
       "MonthlyIncome               4.77\n",
       "Age                         4.62\n",
       "NumberOfTrips               2.86\n",
       "NumberOfChildrenVisiting    1.35\n",
       "NumberOfFollowups           0.92\n",
       "PreferredPropertyStar       0.53\n",
       "TypeofContact               0.51\n",
       "Gender                      0.00\n",
       "CityTier                    0.00\n",
       "Occupation                  0.00\n",
       "ProductPitched              0.00\n",
       "NumberOfPersonVisiting      0.00\n",
       "Designation                 0.00\n",
       "MaritalStatus               0.00\n",
       "Passport                    0.00\n",
       "PitchSatisfactionScore      0.00\n",
       "OwnCar                      0.00\n",
       "ProdTaken                   0.00\n",
       "dtype: float64"
      ]
     },
     "execution_count": 12,
     "metadata": {},
     "output_type": "execute_result"
    }
   ],
   "source": [
    "round(df_tpkg.isna().sum() / df_tpkg.isna().count() * 100, 2).sort_values(ascending=False)"
   ]
  },
  {
   "cell_type": "markdown",
   "metadata": {
    "id": "gf-HAPk2WOE9"
   },
   "source": [
    "##### Imputing feature TypeofContact"
   ]
  },
  {
   "cell_type": "code",
   "execution_count": 13,
   "metadata": {
    "colab": {
     "base_uri": "https://localhost:8080/"
    },
    "id": "viOKXTeTWOE9",
    "outputId": "2d1f09f5-e8cd-43fd-b025-21ca6c3b7567"
   },
   "outputs": [
    {
     "data": {
      "text/plain": [
       "Self Enquiry       3444\n",
       "Company Invited    1419\n",
       "Name: TypeofContact, dtype: int64"
      ]
     },
     "execution_count": 13,
     "metadata": {},
     "output_type": "execute_result"
    }
   ],
   "source": [
    "# feature TypeofContact\n",
    "df_tpkg['TypeofContact'].value_counts()"
   ]
  },
  {
   "cell_type": "code",
   "execution_count": 14,
   "metadata": {
    "colab": {
     "base_uri": "https://localhost:8080/"
    },
    "id": "g3mwy1jZWOE9",
    "outputId": "0707ed71-eb03-4ca9-a485-6a47be960a47"
   },
   "outputs": [
    {
     "data": {
      "text/plain": [
       "0"
      ]
     },
     "execution_count": 14,
     "metadata": {},
     "output_type": "execute_result"
    }
   ],
   "source": [
    "# Lets impute missing value with mode value of the feature TypeofContact\n",
    "df_tpkg['TypeofContact'].mode()\n",
    "\n",
    "df_tpkg['TypeofContact']=df_tpkg['TypeofContact'].fillna('Self Enquiry')\n",
    "\n",
    "# Verifing if there are null values\n",
    "df_tpkg[\"TypeofContact\"].isnull().sum()"
   ]
  },
  {
   "cell_type": "markdown",
   "metadata": {
    "id": "0rJ00umkWOE-"
   },
   "source": [
    "##### Imputing feature NumberOfFollowups"
   ]
  },
  {
   "cell_type": "code",
   "execution_count": 15,
   "metadata": {
    "id": "ZtdxelxSWOE-"
   },
   "outputs": [],
   "source": [
    "df_tpkg.groupby([\"Gender\",'ProductPitched'])[\"NumberOfFollowups\"].median()\n",
    "\n",
    "df_tpkg['NumberOfFollowups']=df_tpkg.groupby([\"Gender\",'ProductPitched'])[\"NumberOfFollowups\"].apply(lambda x:x.fillna(x.median()))"
   ]
  },
  {
   "cell_type": "code",
   "execution_count": 16,
   "metadata": {
    "colab": {
     "base_uri": "https://localhost:8080/"
    },
    "id": "23eeH2-OWOE-",
    "outputId": "4bcb2021-c9a1-4bca-8441-35bfbf7fd982"
   },
   "outputs": [
    {
     "data": {
      "text/plain": [
       "0"
      ]
     },
     "execution_count": 16,
     "metadata": {},
     "output_type": "execute_result"
    }
   ],
   "source": [
    "df_tpkg[\"NumberOfFollowups\"].isnull().sum()"
   ]
  },
  {
   "cell_type": "markdown",
   "metadata": {
    "id": "SSQaHH6iWOE-"
   },
   "source": [
    "##### Imputing feature PreferredPropertyStar"
   ]
  },
  {
   "cell_type": "code",
   "execution_count": 17,
   "metadata": {
    "colab": {
     "base_uri": "https://localhost:8080/"
    },
    "id": "YM17iZeQWOE-",
    "outputId": "f3a689d7-3b78-47f3-8674-044a41485bb6"
   },
   "outputs": [
    {
     "data": {
      "text/plain": [
       "0"
      ]
     },
     "execution_count": 17,
     "metadata": {},
     "output_type": "execute_result"
    }
   ],
   "source": [
    "df_tpkg['PreferredPropertyStar']=df_tpkg.groupby([\"Designation\"])[\"PreferredPropertyStar\"].apply(lambda x:x.fillna(x.median()))\n",
    "\n",
    "df_tpkg[\"PreferredPropertyStar\"].isnull().sum()"
   ]
  },
  {
   "cell_type": "markdown",
   "metadata": {
    "id": "ygzczIK_WOE_"
   },
   "source": [
    "#### Imputing feature  DurationOfPitch"
   ]
  },
  {
   "cell_type": "code",
   "execution_count": 18,
   "metadata": {
    "colab": {
     "base_uri": "https://localhost:8080/"
    },
    "id": "H19nJGM2WOE_",
    "outputId": "07cc988c-9544-482b-9064-9ae2dfb9fe75"
   },
   "outputs": [
    {
     "data": {
      "text/plain": [
       "0"
      ]
     },
     "execution_count": 18,
     "metadata": {},
     "output_type": "execute_result"
    }
   ],
   "source": [
    "df_tpkg.groupby(['ProductPitched','NumberOfFollowups'], as_index=False)[\"DurationOfPitch\"].median()\n",
    "\n",
    "# Impute missing Duration of pitch with median value\n",
    "df_tpkg[\"DurationOfPitch\"] = df_tpkg.groupby([\"ProductPitched\",'NumberOfFollowups'])[\"DurationOfPitch\"].apply(\n",
    "    lambda x: x.fillna(x.median())\n",
    ")\n",
    "\n",
    "df_tpkg[df_tpkg[\"DurationOfPitch\"].isnull()]\n",
    "\n",
    "df_tpkg[\"DurationOfPitch\"].isnull().sum()"
   ]
  },
  {
   "cell_type": "markdown",
   "metadata": {
    "id": "Ok-7JkjoWOE_"
   },
   "source": [
    "#### Imputing feature NumberOfTrips"
   ]
  },
  {
   "cell_type": "code",
   "execution_count": 19,
   "metadata": {
    "colab": {
     "base_uri": "https://localhost:8080/"
    },
    "id": "73nVbBKzWOE_",
    "outputId": "85d8acc4-01e0-4091-d50c-8c0d29efcf2a"
   },
   "outputs": [
    {
     "data": {
      "text/plain": [
       "0"
      ]
     },
     "execution_count": 19,
     "metadata": {},
     "output_type": "execute_result"
    }
   ],
   "source": [
    "df_tpkg.groupby(['MaritalStatus'])[\"NumberOfTrips\"].median()\n",
    "\n",
    "# Impute missing NumberOfTrips of pitch with median value\n",
    "df_tpkg[\"NumberOfTrips\"] = df_tpkg.groupby([\"MaritalStatus\"])[\"NumberOfTrips\"].apply(\n",
    "    lambda x: x.fillna(x.median())\n",
    ")\n",
    "\n",
    "df_tpkg[\"NumberOfTrips\"].isnull().sum()"
   ]
  },
  {
   "cell_type": "code",
   "execution_count": 20,
   "metadata": {
    "colab": {
     "base_uri": "https://localhost:8080/"
    },
    "id": "KLeEHmOUWOFA",
    "outputId": "c5aabcb2-b935-48f6-a584-3e667753b20a"
   },
   "outputs": [
    {
     "data": {
      "text/plain": [
       "0"
      ]
     },
     "execution_count": 20,
     "metadata": {},
     "output_type": "execute_result"
    }
   ],
   "source": [
    "df_tpkg[\"NumberOfTrips\"].isnull().sum()"
   ]
  },
  {
   "cell_type": "markdown",
   "metadata": {
    "id": "4IjdHSjgWOFA"
   },
   "source": [
    "##### Imputing feature NumberOfChildrenVisiting"
   ]
  },
  {
   "cell_type": "code",
   "execution_count": 21,
   "metadata": {
    "id": "oi729jf2WOFA"
   },
   "outputs": [],
   "source": [
    "# Impute missing NumberOfChildrenVisited with 0\n",
    "df_tpkg['NumberOfChildrenVisiting']=df_tpkg['NumberOfChildrenVisiting'].fillna(0)"
   ]
  },
  {
   "cell_type": "markdown",
   "metadata": {
    "id": "qHaq85nbWOFA"
   },
   "source": [
    "##### Imputing feature Age"
   ]
  },
  {
   "cell_type": "code",
   "execution_count": 22,
   "metadata": {
    "colab": {
     "base_uri": "https://localhost:8080/"
    },
    "id": "CJI4NCQ8WOFB",
    "outputId": "32a54703-bde7-4396-82a9-1a775f405b88"
   },
   "outputs": [
    {
     "data": {
      "text/plain": [
       "0"
      ]
     },
     "execution_count": 22,
     "metadata": {},
     "output_type": "execute_result"
    }
   ],
   "source": [
    "df_tpkg.groupby([\"Designation\", \"Gender\",\"MaritalStatus\"])[\"Age\"].median()\n",
    "\n",
    "# Impute missing Age with median value\n",
    "df_tpkg[\"Age\"] = df_tpkg.groupby([\"Designation\", \"Gender\",\"MaritalStatus\"])[\"Age\"].apply(\n",
    "    lambda x: x.fillna(x.median())\n",
    ")\n",
    "\n",
    "df_tpkg[\"Age\"].isnull().sum()"
   ]
  },
  {
   "cell_type": "markdown",
   "metadata": {
    "id": "UZLf2dsKWOFB"
   },
   "source": [
    "##### Imputing feature MonthlyIncome"
   ]
  },
  {
   "cell_type": "code",
   "execution_count": 23,
   "metadata": {
    "id": "1CvOCzOuWOFB"
   },
   "outputs": [],
   "source": [
    "df_tpkg.groupby([\"Occupation\",'Designation','Gender'])[\"MonthlyIncome\"].median()\n",
    "\n",
    "df_tpkg[\"MonthlyIncome\"]=df_tpkg.groupby([\"Occupation\",'Designation','Gender'])[\"MonthlyIncome\"].apply(\n",
    "    lambda x: x.fillna(x.median())\n",
    ")"
   ]
  },
  {
   "cell_type": "code",
   "execution_count": 24,
   "metadata": {
    "colab": {
     "base_uri": "https://localhost:8080/"
    },
    "id": "K62jGtpNWOFB",
    "outputId": "c9a72cc6-820a-4c72-91fe-3b7f16304834"
   },
   "outputs": [
    {
     "data": {
      "text/plain": [
       "count    4888.000000\n",
       "mean       37.415303\n",
       "std         9.162482\n",
       "min        18.000000\n",
       "25%        31.000000\n",
       "50%        36.000000\n",
       "75%        43.000000\n",
       "max        61.000000\n",
       "Name: Age, dtype: float64"
      ]
     },
     "execution_count": 24,
     "metadata": {},
     "output_type": "execute_result"
    }
   ],
   "source": [
    "df_tpkg.Age.describe()"
   ]
  },
  {
   "cell_type": "code",
   "execution_count": 25,
   "metadata": {
    "colab": {
     "base_uri": "https://localhost:8080/"
    },
    "id": "Xc7OuLKeWOFC",
    "outputId": "52b94b17-c5c4-4f3e-c734-478eee80a6bc"
   },
   "outputs": [
    {
     "data": {
      "text/plain": [
       "31-40    1894\n",
       "41-50    1073\n",
       "26-30    1025\n",
       "51-70     549\n",
       "15-25     347\n",
       "Name: Agebin, dtype: int64"
      ]
     },
     "execution_count": 25,
     "metadata": {},
     "output_type": "execute_result"
    }
   ],
   "source": [
    "#Creating bins of Customer Age to find out trend\n",
    "df_tpkg['Agebin'] = df_tpkg['Agebin'] = pd.cut(df_tpkg['Age'], bins = [15,25, 31, 40, 50, 70], labels = ['15-25','26-30', '31-40', '41-50', '51-70'])\n",
    "df_tpkg.Agebin.value_counts()"
   ]
  },
  {
   "cell_type": "code",
   "execution_count": 26,
   "metadata": {
    "colab": {
     "base_uri": "https://localhost:8080/"
    },
    "id": "bzfZzjVWWOFC",
    "outputId": "089a4980-d11b-439d-e0f7-8d82aef269ff"
   },
   "outputs": [
    {
     "data": {
      "text/plain": [
       "count     4888.000000\n",
       "mean     23535.904153\n",
       "std       5269.190200\n",
       "min       1000.000000\n",
       "25%      20438.250000\n",
       "50%      22311.000000\n",
       "75%      25424.750000\n",
       "max      98678.000000\n",
       "Name: MonthlyIncome, dtype: float64"
      ]
     },
     "execution_count": 26,
     "metadata": {},
     "output_type": "execute_result"
    }
   ],
   "source": [
    "df_tpkg.MonthlyIncome.describe()"
   ]
  },
  {
   "cell_type": "code",
   "execution_count": 27,
   "metadata": {
    "colab": {
     "base_uri": "https://localhost:8080/"
    },
    "id": "ElA_U_kSWOFC",
    "outputId": "e37487fc-9da9-4cc2-8e70-095002f32f8e"
   },
   "outputs": [
    {
     "data": {
      "text/plain": [
       "<25000     2490\n",
       "<20000     1038\n",
       "<30000      768\n",
       "<35000      382\n",
       "<40000      206\n",
       "<100000       2\n",
       "<15000        2\n",
       "<50000        0\n",
       "<45000        0\n",
       "Name: Incomebin, dtype: int64"
      ]
     },
     "execution_count": 27,
     "metadata": {},
     "output_type": "execute_result"
    }
   ],
   "source": [
    "#Creating bins of Customer Income to find out trend\n",
    "df_tpkg['Incomebin'] =  pd.cut(df_tpkg['MonthlyIncome'], bins = [0,15000,20000, 25000, 30000,35000,40000,45000,50000,100000], labels = ['<15000', '<20000', '<25000', '<30000','<35000','<40000','<45000','<50000','<100000'])\n",
    "df_tpkg.Incomebin.value_counts()"
   ]
  },
  {
   "cell_type": "code",
   "execution_count": 28,
   "metadata": {
    "colab": {
     "base_uri": "https://localhost:8080/"
    },
    "id": "dqcIyYRRWOFC",
    "outputId": "38e3101a-9e53-40d9-8ab2-df1cce7f4f5f"
   },
   "outputs": [
    {
     "data": {
      "text/plain": [
       "ProdTaken                   0\n",
       "Age                         0\n",
       "TypeofContact               0\n",
       "CityTier                    0\n",
       "DurationOfPitch             0\n",
       "Occupation                  0\n",
       "Gender                      0\n",
       "NumberOfPersonVisiting      0\n",
       "NumberOfFollowups           0\n",
       "ProductPitched              0\n",
       "PreferredPropertyStar       0\n",
       "MaritalStatus               0\n",
       "NumberOfTrips               0\n",
       "Passport                    0\n",
       "PitchSatisfactionScore      0\n",
       "OwnCar                      0\n",
       "NumberOfChildrenVisiting    0\n",
       "Designation                 0\n",
       "MonthlyIncome               0\n",
       "Agebin                      0\n",
       "Incomebin                   0\n",
       "dtype: int64"
      ]
     },
     "execution_count": 28,
     "metadata": {},
     "output_type": "execute_result"
    }
   ],
   "source": [
    "#Checking if there are still any missing value\n",
    "df_tpkg.isnull().sum()"
   ]
  },
  {
   "cell_type": "markdown",
   "metadata": {
    "id": "4GgJ3ZePWOFC"
   },
   "source": [
    "### Outliers Detection"
   ]
  },
  {
   "cell_type": "code",
   "execution_count": 29,
   "metadata": {
    "id": "iqvDVGjYWOFC"
   },
   "outputs": [],
   "source": [
    "Q1 = df_tpkg.quantile(0.25)             #To find the 25th percentile and 75th percentile.\n",
    "Q3 = df_tpkg.quantile(0.75)\n",
    "\n",
    "IQR = Q3 - Q1                           #Inter Quantile Range (75th perentile - 25th percentile)\n",
    "\n",
    "lower=Q1-1.5*IQR                        #Finding lower and upper bounds for all values. All values outside these bounds are outliers\n",
    "upper=Q3+1.5*IQR"
   ]
  },
  {
   "cell_type": "code",
   "execution_count": 30,
   "metadata": {
    "colab": {
     "base_uri": "https://localhost:8080/"
    },
    "id": "Z-2cUzBKWOFD",
    "outputId": "e63060f2-0e6a-4c59-8589-7219599e9d0b"
   },
   "outputs": [
    {
     "data": {
      "text/plain": [
       "Age                         0.000000\n",
       "DurationOfPitch             2.291326\n",
       "NumberOfPersonVisiting      0.061375\n",
       "NumberOfFollowups           6.382979\n",
       "PreferredPropertyStar       0.000000\n",
       "NumberOfTrips               2.229951\n",
       "PitchSatisfactionScore      0.000000\n",
       "NumberOfChildrenVisiting    0.000000\n",
       "MonthlyIncome               7.528642\n",
       "dtype: float64"
      ]
     },
     "execution_count": 30,
     "metadata": {},
     "output_type": "execute_result"
    }
   ],
   "source": [
    "((df_tpkg.select_dtypes(include=['float64','int64'])<lower) | (df_tpkg.select_dtypes(include=['float64','int64'])>upper)).sum()/len(df_tpkg)*100"
   ]
  },
  {
   "cell_type": "code",
   "execution_count": 31,
   "metadata": {
    "colab": {
     "base_uri": "https://localhost:8080/",
     "height": 574
    },
    "id": "Ig9d1afuWOFD",
    "outputId": "3c7e1216-14c6-4359-c827-ff44c9b77da7"
   },
   "outputs": [
    {
     "data": {
      "image/png": "[encoded data removed]",
      "text/plain": [
       "<Figure size 1440x2160 with 2 Axes>"
      ]
     },
     "metadata": {
      "needs_background": "light"
     },
     "output_type": "display_data"
    }
   ],
   "source": [
    "numeric_columns = ['MonthlyIncome','NumberOfTrips']\n",
    "# outlier detection using boxplot\n",
    "plt.figure(figsize=(20,30))\n",
    "\n",
    "for i, variable in enumerate(numeric_columns):\n",
    "                     plt.subplot(4,4,i+1)\n",
    "                     plt.boxplot(df_tpkg[variable],whis=1.5)\n",
    "                     plt.tight_layout()\n",
    "                     plt.title(variable)\n",
    "\n",
    "plt.show()"
   ]
  },
  {
   "cell_type": "code",
   "execution_count": 32,
   "metadata": {
    "id": "JRkKD6bAWOFD"
   },
   "outputs": [],
   "source": [
    "#Dropping observaions with duration of pitch greater than 40. There are just 2 such observations\n",
    "df_tpkg.drop(index=df_tpkg[df_tpkg.DurationOfPitch>37].index,inplace=True)\n",
    "\n",
    "#Dropping observation with monthly income less than 12000 or greater than 40000. There are just 4 such observations\n",
    "df_tpkg.drop(index=df_tpkg[(df_tpkg.MonthlyIncome>40000) | (df_tpkg.MonthlyIncome<12000)].index,inplace=True)\n",
    "\n",
    "#Dropping observations with number of trips greater than 8. There are just 4 such observations\n",
    "df_tpkg.drop(index=df_tpkg[df_tpkg.NumberOfTrips>10].index,inplace=True)"
   ]
  },
  {
   "cell_type": "code",
   "execution_count": 33,
   "metadata": {
    "id": "k5r1TnjQWOFD"
   },
   "outputs": [],
   "source": [
    "# Separating target column\n",
    "X = df_tpkg.drop(['ProdTaken','PitchSatisfactionScore','ProductPitched','NumberOfFollowups','DurationOfPitch','Agebin','Incomebin'],axis=1)\n",
    "X = pd.get_dummies(X,drop_first=True)\n",
    "y = df_tpkg['ProdTaken']"
   ]
  },
  {
   "cell_type": "code",
   "execution_count": 34,
   "metadata": {
    "colab": {
     "base_uri": "https://localhost:8080/",
     "height": 624
    },
    "id": "etjmLTHJXK9g",
    "outputId": "29cd511d-8945-4805-b966-17ceeb8495a6"
   },
   "outputs": [
    {
     "data": {
      "text/plain": [
       "<matplotlib.axes._subplots.AxesSubplot at 0x7fb0c361d750>"
      ]
     },
     "execution_count": 34,
     "metadata": {},
     "output_type": "execute_result"
    },
    {
     "data": {
      "image/png": "[encoded data removed]",
      "text/plain": [
       "<Figure size 1152x576 with 2 Axes>"
      ]
     },
     "metadata": {
      "needs_background": "light"
     },
     "output_type": "display_data"
    }
   ],
   "source": [
    "# Generating correlation matrix\n",
    "corr = df_tpkg.corr()\n",
    "plt.figure(figsize = (16,8))\n",
    "sns.heatmap(corr,\n",
    "            cmap=\"YlGnBu\",\n",
    "            xticklabels=corr.columns.values,\n",
    "            yticklabels=corr.columns.values)"
   ]
  },
  {
   "cell_type": "markdown",
   "metadata": {},
   "source": [
    "**Observation**\n",
    "1. Monthlyincome and Age has weak correlation\n",
    "2. Number of children visiting and number of person vsiting has correlation as expected.\n",
    "3. Numberof follow up and number of person vsiting has very weak correlation"
   ]
  },
  {
   "cell_type": "code",
   "execution_count": 123,
   "metadata": {
    "colab": {
     "base_uri": "https://localhost:8080/"
    },
    "id": "yOc8zvI7WOFD",
    "outputId": "9c9e5a51-6ecf-443b-89c4-a616196bf2d1"
   },
   "outputs": [
    {
     "data": {
      "text/plain": [
       "((3414, 23), (1464, 23))"
      ]
     },
     "execution_count": 123,
     "metadata": {},
     "output_type": "execute_result"
    }
   ],
   "source": [
    "# Splitting the data into train and test sets in 70:30 ratio\n",
    "from sklearn.model_selection import train_test_split # Sklearn package's randomized data splitting function\n",
    "\n",
    "X_train, X_test, y_train, y_test = train_test_split(X, y, test_size=0.30, random_state=1,stratify=y)\n",
    "X_train.shape, X_test.shape"
   ]
  },
  {
   "cell_type": "code",
   "execution_count": 124,
   "metadata": {
    "id": "17ftzLerWOFD"
   },
   "outputs": [],
   "source": [
    "#Importing libraries required for Ensemble Technique Models\n",
    "from sklearn.ensemble import BaggingClassifier,RandomForestClassifier,StackingClassifier\n",
    "from sklearn.tree import DecisionTreeClassifier\n",
    "from xgboost import XGBClassifier\n",
    "from sklearn.metrics import  classification_report, accuracy_score, precision_score, recall_score,f1_score\n",
    "from sklearn.metrics import confusion_matrix,ConfusionMatrixDisplay,plot_confusion_matrix #to plot confusion matric\n",
    "from sklearn import metrics\n",
    "from sklearn.model_selection import GridSearchCV"
   ]
  },
  {
   "cell_type": "code",
   "execution_count": 125,
   "metadata": {
    "id": "E6lqGsl4WOFD"
   },
   "outputs": [],
   "source": [
    "# Function to display confusion matrix\n",
    "def make_confusion_matrix(y_actual,y_predict,title):\n",
    "    '''Plot confusion matrix'''\n",
    "    fig, ax = plt.subplots(1, 1)\n",
    "    \n",
    "    cm = confusion_matrix(y_actual, y_predict, labels=[0,1])\n",
    "    disp = ConfusionMatrixDisplay(confusion_matrix=cm,\n",
    "                               display_labels=[\"No\",\"Yes\"])\n",
    "    disp.plot(cmap='Greens',colorbar=True,ax=ax)\n",
    "    \n",
    "    ax.set_title(title)\n",
    "    plt.tick_params(axis=u'both', which=u'both',length=0)\n",
    "    plt.grid(b=None,axis='both',which='both',visible=False)\n",
    "    plt.show()"
   ]
  },
  {
   "cell_type": "code",
   "execution_count": 126,
   "metadata": {
    "id": "suqxF5d6cnsR"
   },
   "outputs": [],
   "source": [
    "#Defining function to show model metrice score table\n",
    "def get_metrics_score(model,X_train_df,X_test_df,y_train_pass,y_test_pass,flag=True):\n",
    "    '''\n",
    "    Function to calculate different metric scores of the model - Accuracy, Recall, Precision, and F1 score\n",
    "    model: classifier to predict values of X\n",
    "    train, test: Independent features\n",
    "    train_y,test_y: Dependent variable\n",
    "    threshold: thresold for classifiying the observation as 1\n",
    "    flag: If the flag is set to True then only the print statements showing different will be displayed. The default value is set to True.\n",
    "    roc: If the roc is set to True then only roc score will be displayed. The default value is set to False.\n",
    "    '''\n",
    "    # defining an empty list to store train and test results\n",
    "    score_list=[] \n",
    "    pred_train = model.predict(X_train_df)\n",
    "    pred_test = model.predict(X_test_df)\n",
    "    pred_train = np.round(pred_train)\n",
    "    pred_test = np.round(pred_test)\n",
    "    train_acc = accuracy_score(y_train_pass,pred_train)\n",
    "    test_acc = accuracy_score(y_test_pass,pred_test)\n",
    "    train_recall = recall_score(y_train_pass,pred_train)\n",
    "    test_recall = recall_score(y_test_pass,pred_test)\n",
    "    train_precision = precision_score(y_train_pass,pred_train)\n",
    "    test_precision = precision_score(y_test_pass,pred_test)\n",
    "    train_f1 = f1_score(y_train_pass,pred_train)\n",
    "    test_f1 = f1_score(y_test_pass,pred_test)\n",
    "    score_list.extend((train_acc,test_acc,train_recall,test_recall,train_precision,test_precision,train_f1,test_f1))\n",
    "    if flag == True: \n",
    "          metric_names = ['Train_Accuracy', 'Test_Accuracy', 'Train_Recall', 'Test_Recall','Train_Precision',\n",
    "                          'Test_Precision', 'Train_F1-Score', 'Test_F1-Score']\n",
    "          cols = ['Metric', 'Score']\n",
    "          records = [(name, score) for name, score in zip(metric_names, score_list)]\n",
    "          display(pd.DataFrame.from_records(records, columns=cols, index='Metric').T)\n",
    "          make_confusion_matrix(y_train_pass,pred_train,\"Confusion Matrix for Train\")     \n",
    "          make_confusion_matrix(y_test_pass,pred_test,\"Confusion Matrix for Test\") \n",
    "    return score_list # returning the list with train and test scores"
   ]
  },
  {
   "cell_type": "code",
   "execution_count": 127,
   "metadata": {
    "id": "tCwQJYfecqC_"
   },
   "outputs": [],
   "source": [
    "# Defining empty lists to add train and test results \n",
    "acc_train = []\n",
    "acc_test = []\n",
    "recall_train = []\n",
    "recall_test = []\n",
    "precision_train = []\n",
    "precision_test = []\n",
    "f1_train = []\n",
    "f1_test = []\n",
    "\n",
    "def add_score_model(score):\n",
    "     '''add score of modelto list'''\n",
    "     acc_train.append(score[0])\n",
    "     acc_test.append(score[1])\n",
    "     recall_train.append(score[2])\n",
    "     recall_test.append(score[3])\n",
    "     precision_train.append(score[4])\n",
    "     precision_test.append(score[5])\n",
    "     f1_train.append(score[6])\n",
    "     f1_test.append(score[7])"
   ]
  },
  {
   "cell_type": "markdown",
   "metadata": {
    "id": "G4b_bfH9csYN"
   },
   "source": [
    "# Model Building"
   ]
  },
  {
   "cell_type": "markdown",
   "metadata": {
    "id": "YJoUAA49cyad"
   },
   "source": [
    "### Decision Tree\n",
    "Decision Tree classifier is applied as a base model on the dataset. "
   ]
  },
  {
   "cell_type": "code",
   "execution_count": 128,
   "metadata": {
    "colab": {
     "base_uri": "https://localhost:8080/"
    },
    "id": "_mGWivJhcwxb",
    "outputId": "c3ff3639-adce-44ab-cf6d-5ada70820d41"
   },
   "outputs": [
    {
     "data": {
      "text/plain": [
       "DecisionTreeClassifier(class_weight={0: 0.2, 1: 0.8}, random_state=1)"
      ]
     },
     "execution_count": 128,
     "metadata": {},
     "output_type": "execute_result"
    }
   ],
   "source": [
    "dtree=DecisionTreeClassifier(random_state=1, class_weight={0:0.20, 1:0.80})\n",
    "dtree.fit(X_train,y_train)"
   ]
  },
  {
   "cell_type": "code",
   "execution_count": 129,
   "metadata": {
    "colab": {
     "base_uri": "https://localhost:8080/",
     "height": 630
    },
    "id": "Y-uBpUcwdcXz",
    "outputId": "b8893d90-a9e8-4b3f-c765-d0c7a779c29b"
   },
   "outputs": [
    {
     "data": {
      "text/html": [
       "<div>\n",
       "<style scoped>\n",
       "    .dataframe tbody tr th:only-of-type {\n",
       "        vertical-align: middle;\n",
       "    }\n",
       "\n",
       "    .dataframe tbody tr th {\n",
       "        vertical-align: top;\n",
       "    }\n",
       "\n",
       "    .dataframe thead th {\n",
       "        text-align: right;\n",
       "    }\n",
       "</style>\n",
       "<table border=\"1\" class=\"dataframe\">\n",
       "  <thead>\n",
       "    <tr style=\"text-align: right;\">\n",
       "      <th>Metric</th>\n",
       "      <th>Train_Accuracy</th>\n",
       "      <th>Test_Accuracy</th>\n",
       "      <th>Train_Recall</th>\n",
       "      <th>Test_Recall</th>\n",
       "      <th>Train_Precision</th>\n",
       "      <th>Test_Precision</th>\n",
       "      <th>Train_F1-Score</th>\n",
       "      <th>Test_F1-Score</th>\n",
       "    </tr>\n",
       "  </thead>\n",
       "  <tbody>\n",
       "    <tr>\n",
       "      <th>Score</th>\n",
       "      <td>1.0</td>\n",
       "      <td>0.864754</td>\n",
       "      <td>1.0</td>\n",
       "      <td>0.605072</td>\n",
       "      <td>1.0</td>\n",
       "      <td>0.652344</td>\n",
       "      <td>1.0</td>\n",
       "      <td>0.62782</td>\n",
       "    </tr>\n",
       "  </tbody>\n",
       "</table>\n",
       "</div>"
      ],
      "text/plain": [
       "Metric  Train_Accuracy  Test_Accuracy  ...  Train_F1-Score  Test_F1-Score\n",
       "Score              1.0       0.864754  ...             1.0        0.62782\n",
       "\n",
       "[1 rows x 8 columns]"
      ]
     },
     "metadata": {},
     "output_type": "display_data"
    },
    {
     "data": {
      "image/png": "[encoded data removed]",
      "text/plain": [
       "<Figure size 432x288 with 2 Axes>"
      ]
     },
     "metadata": {
      "needs_background": "light"
     },
     "output_type": "display_data"
    },
    {
     "data": {
      "image/png": "[encoded data removed]",
      "text/plain": [
       "<Figure size 432x288 with 2 Axes>"
      ]
     },
     "metadata": {
      "needs_background": "light"
     },
     "output_type": "display_data"
    }
   ],
   "source": [
    "dtree_score=get_metrics_score(dtree,X_train,X_test,y_train,y_test)\n",
    "add_score_model(dtree_score)"
   ]
  },
  {
   "cell_type": "markdown",
   "metadata": {
    "id": "9DTTA8xdN91R"
   },
   "source": [
    "**Observation:**\n",
    "<p>\n",
    "Decision tree is overfitting the training data as there is lot of disparity between test and train. It gave decent accuracy score. But Recall score is also not that high.\n",
    "</p>"
   ]
  },
  {
   "cell_type": "markdown",
   "metadata": {
    "id": "kUXITG-OeCaI"
   },
   "source": [
    "## Applying Ensemble Techniques\n",
    "### Bagging Technique"
   ]
  },
  {
   "cell_type": "code",
   "execution_count": 130,
   "metadata": {
    "colab": {
     "base_uri": "https://localhost:8080/"
    },
    "id": "nkl84oR2eCEH",
    "outputId": "7a76e92e-c481-4775-f6f7-8610991b10ad"
   },
   "outputs": [
    {
     "name": "stderr",
     "output_type": "stream",
     "text": [
      "[Parallel(n_jobs=1)]: Using backend SequentialBackend with 1 concurrent workers.\n",
      "[Parallel(n_jobs=1)]: Done   1 out of   1 | elapsed:    0.1s finished\n"
     ]
    },
    {
     "data": {
      "text/plain": [
       "BaggingClassifier(random_state=1, verbose=1)"
      ]
     },
     "execution_count": 130,
     "metadata": {},
     "output_type": "execute_result"
    }
   ],
   "source": [
    "#Fitting the model\n",
    "bagging_classifier = BaggingClassifier(random_state=1, verbose=1)\n",
    "bagging_classifier.fit(X_train,y_train)"
   ]
  },
  {
   "cell_type": "code",
   "execution_count": 131,
   "metadata": {
    "colab": {
     "base_uri": "https://localhost:8080/",
     "height": 700
    },
    "id": "FLf9_aeheLoP",
    "outputId": "5d931c05-7a3b-42f2-b0da-54765384d768"
   },
   "outputs": [
    {
     "name": "stderr",
     "output_type": "stream",
     "text": [
      "[Parallel(n_jobs=1)]: Using backend SequentialBackend with 1 concurrent workers.\n",
      "[Parallel(n_jobs=1)]: Done   1 out of   1 | elapsed:    0.0s finished\n",
      "[Parallel(n_jobs=1)]: Using backend SequentialBackend with 1 concurrent workers.\n",
      "[Parallel(n_jobs=1)]: Done   1 out of   1 | elapsed:    0.0s finished\n"
     ]
    },
    {
     "data": {
      "text/html": [
       "<div>\n",
       "<style scoped>\n",
       "    .dataframe tbody tr th:only-of-type {\n",
       "        vertical-align: middle;\n",
       "    }\n",
       "\n",
       "    .dataframe tbody tr th {\n",
       "        vertical-align: top;\n",
       "    }\n",
       "\n",
       "    .dataframe thead th {\n",
       "        text-align: right;\n",
       "    }\n",
       "</style>\n",
       "<table border=\"1\" class=\"dataframe\">\n",
       "  <thead>\n",
       "    <tr style=\"text-align: right;\">\n",
       "      <th>Metric</th>\n",
       "      <th>Train_Accuracy</th>\n",
       "      <th>Test_Accuracy</th>\n",
       "      <th>Train_Recall</th>\n",
       "      <th>Test_Recall</th>\n",
       "      <th>Train_Precision</th>\n",
       "      <th>Test_Precision</th>\n",
       "      <th>Train_F1-Score</th>\n",
       "      <th>Test_F1-Score</th>\n",
       "    </tr>\n",
       "  </thead>\n",
       "  <tbody>\n",
       "    <tr>\n",
       "      <th>Score</th>\n",
       "      <td>0.990334</td>\n",
       "      <td>0.891393</td>\n",
       "      <td>0.953271</td>\n",
       "      <td>0.532609</td>\n",
       "      <td>0.995122</td>\n",
       "      <td>0.830508</td>\n",
       "      <td>0.973747</td>\n",
       "      <td>0.649007</td>\n",
       "    </tr>\n",
       "  </tbody>\n",
       "</table>\n",
       "</div>"
      ],
      "text/plain": [
       "Metric  Train_Accuracy  Test_Accuracy  ...  Train_F1-Score  Test_F1-Score\n",
       "Score         0.990334       0.891393  ...        0.973747       0.649007\n",
       "\n",
       "[1 rows x 8 columns]"
      ]
     },
     "metadata": {},
     "output_type": "display_data"
    },
    {
     "data": {
      "image/png": "[encoded data removed]",
      "text/plain": [
       "<Figure size 432x288 with 2 Axes>"
      ]
     },
     "metadata": {
      "needs_background": "light"
     },
     "output_type": "display_data"
    },
    {
     "data": {
      "image/png": "[encoded data removed]",
      "text/plain": [
       "<Figure size 432x288 with 2 Axes>"
      ]
     },
     "metadata": {
      "needs_background": "light"
     },
     "output_type": "display_data"
    }
   ],
   "source": [
    "bagging_score=get_metrics_score(bagging_classifier,X_train,X_test,y_train,y_test)\n",
    "add_score_model(bagging_score)"
   ]
  },
  {
   "cell_type": "markdown",
   "metadata": {
    "id": "-KY7Ypt8Ogc5"
   },
   "source": [
    "**Observation:**\n",
    "<p>\n",
    "Bagging classifier improved accuracy over the Decision Tree model but Test Recall score reduced which is important for company’s business\n",
    "</p>"
   ]
  },
  {
   "cell_type": "markdown",
   "metadata": {
    "id": "dtz11hMteV_2"
   },
   "source": [
    "### Random Forest"
   ]
  },
  {
   "cell_type": "code",
   "execution_count": 132,
   "metadata": {
    "colab": {
     "base_uri": "https://localhost:8080/"
    },
    "id": "EOfk8ZFyeVtM",
    "outputId": "4db560ee-73a6-49c4-ddf2-ea01fdea5674"
   },
   "outputs": [
    {
     "data": {
      "text/plain": [
       "RandomForestClassifier(random_state=4)"
      ]
     },
     "execution_count": 132,
     "metadata": {},
     "output_type": "execute_result"
    }
   ],
   "source": [
    "rf_estimator = RandomForestClassifier(random_state=4)\n",
    "rf_estimator.fit(X_train,y_train)"
   ]
  },
  {
   "cell_type": "code",
   "execution_count": 133,
   "metadata": {
    "colab": {
     "base_uri": "https://localhost:8080/",
     "height": 630
    },
    "id": "YctqFpntefW1",
    "outputId": "ae43cc71-ad55-4c50-8eda-512a0c8169f8"
   },
   "outputs": [
    {
     "data": {
      "text/html": [
       "<div>\n",
       "<style scoped>\n",
       "    .dataframe tbody tr th:only-of-type {\n",
       "        vertical-align: middle;\n",
       "    }\n",
       "\n",
       "    .dataframe tbody tr th {\n",
       "        vertical-align: top;\n",
       "    }\n",
       "\n",
       "    .dataframe thead th {\n",
       "        text-align: right;\n",
       "    }\n",
       "</style>\n",
       "<table border=\"1\" class=\"dataframe\">\n",
       "  <thead>\n",
       "    <tr style=\"text-align: right;\">\n",
       "      <th>Metric</th>\n",
       "      <th>Train_Accuracy</th>\n",
       "      <th>Test_Accuracy</th>\n",
       "      <th>Train_Recall</th>\n",
       "      <th>Test_Recall</th>\n",
       "      <th>Train_Precision</th>\n",
       "      <th>Test_Precision</th>\n",
       "      <th>Train_F1-Score</th>\n",
       "      <th>Test_F1-Score</th>\n",
       "    </tr>\n",
       "  </thead>\n",
       "  <tbody>\n",
       "    <tr>\n",
       "      <th>Score</th>\n",
       "      <td>1.0</td>\n",
       "      <td>0.892077</td>\n",
       "      <td>1.0</td>\n",
       "      <td>0.5</td>\n",
       "      <td>1.0</td>\n",
       "      <td>0.873418</td>\n",
       "      <td>1.0</td>\n",
       "      <td>0.635945</td>\n",
       "    </tr>\n",
       "  </tbody>\n",
       "</table>\n",
       "</div>"
      ],
      "text/plain": [
       "Metric  Train_Accuracy  Test_Accuracy  ...  Train_F1-Score  Test_F1-Score\n",
       "Score              1.0       0.892077  ...             1.0       0.635945\n",
       "\n",
       "[1 rows x 8 columns]"
      ]
     },
     "metadata": {},
     "output_type": "display_data"
    },
    {
     "data": {
      "image/png": "[encoded data removed]",
      "text/plain": [
       "<Figure size 432x288 with 2 Axes>"
      ]
     },
     "metadata": {
      "needs_background": "light"
     },
     "output_type": "display_data"
    },
    {
     "data": {
      "image/png": "[encoded data removed]",
      "text/plain": [
       "<Figure size 432x288 with 2 Axes>"
      ]
     },
     "metadata": {
      "needs_background": "light"
     },
     "output_type": "display_data"
    }
   ],
   "source": [
    "score_list_rf=get_metrics_score(rf_estimator,X_train,X_test,y_train,y_test)\n",
    "add_score_model(score_list_rf)"
   ]
  },
  {
   "cell_type": "markdown",
   "metadata": {
    "id": "yFADVz4jOr4v"
   },
   "source": [
    "**Observation:**\n",
    "<p>\n",
    "Random Forest classifier improved accuracy over the Decision Tree model as well as Bagging classifier but test recall score further reduced which makes it not the best suitable model for company’s business\n",
    "</p>"
   ]
  },
  {
   "cell_type": "markdown",
   "metadata": {
    "id": "7bBL4ziYfW82"
   },
   "source": [
    "### XGBoost "
   ]
  },
  {
   "cell_type": "code",
   "execution_count": 134,
   "metadata": {
    "colab": {
     "base_uri": "https://localhost:8080/"
    },
    "id": "GLRiZmo_fV9g",
    "outputId": "5ad8d203-cf30-4691-a7d7-c1d591e3f1da"
   },
   "outputs": [
    {
     "data": {
      "text/plain": [
       "XGBClassifier(eval_metric='logloss', random_state=1)"
      ]
     },
     "execution_count": 134,
     "metadata": {},
     "output_type": "execute_result"
    }
   ],
   "source": [
    "xgb = XGBClassifier(random_state=1,eval_metric='logloss')\n",
    "xgb.fit(X_train,y_train)"
   ]
  },
  {
   "cell_type": "code",
   "execution_count": 135,
   "metadata": {
    "colab": {
     "base_uri": "https://localhost:8080/",
     "height": 630
    },
    "id": "Y3gzObWkfidC",
    "outputId": "f5cc853e-b7d0-4d1c-b66a-c3776f56dc62"
   },
   "outputs": [
    {
     "data": {
      "text/html": [
       "<div>\n",
       "<style scoped>\n",
       "    .dataframe tbody tr th:only-of-type {\n",
       "        vertical-align: middle;\n",
       "    }\n",
       "\n",
       "    .dataframe tbody tr th {\n",
       "        vertical-align: top;\n",
       "    }\n",
       "\n",
       "    .dataframe thead th {\n",
       "        text-align: right;\n",
       "    }\n",
       "</style>\n",
       "<table border=\"1\" class=\"dataframe\">\n",
       "  <thead>\n",
       "    <tr style=\"text-align: right;\">\n",
       "      <th>Metric</th>\n",
       "      <th>Train_Accuracy</th>\n",
       "      <th>Test_Accuracy</th>\n",
       "      <th>Train_Recall</th>\n",
       "      <th>Test_Recall</th>\n",
       "      <th>Train_Precision</th>\n",
       "      <th>Test_Precision</th>\n",
       "      <th>Train_F1-Score</th>\n",
       "      <th>Test_F1-Score</th>\n",
       "    </tr>\n",
       "  </thead>\n",
       "  <tbody>\n",
       "    <tr>\n",
       "      <th>Score</th>\n",
       "      <td>0.871705</td>\n",
       "      <td>0.858607</td>\n",
       "      <td>0.400312</td>\n",
       "      <td>0.355072</td>\n",
       "      <td>0.829032</td>\n",
       "      <td>0.771654</td>\n",
       "      <td>0.539916</td>\n",
       "      <td>0.486352</td>\n",
       "    </tr>\n",
       "  </tbody>\n",
       "</table>\n",
       "</div>"
      ],
      "text/plain": [
       "Metric  Train_Accuracy  Test_Accuracy  ...  Train_F1-Score  Test_F1-Score\n",
       "Score         0.871705       0.858607  ...        0.539916       0.486352\n",
       "\n",
       "[1 rows x 8 columns]"
      ]
     },
     "metadata": {},
     "output_type": "display_data"
    },
    {
     "data": {
      "image/png": "[encoded data removed]",
      "text/plain": [
       "<Figure size 432x288 with 2 Axes>"
      ]
     },
     "metadata": {
      "needs_background": "light"
     },
     "output_type": "display_data"
    },
    {
     "data": {
      "image/png": "[encoded data removed]",
      "text/plain": [
       "<Figure size 432x288 with 2 Axes>"
      ]
     },
     "metadata": {
      "needs_background": "light"
     },
     "output_type": "display_data"
    }
   ],
   "source": [
    "xgb_score=get_metrics_score(xgb,X_train,X_test,y_train,y_test)\n",
    "add_score_model(xgb_score)"
   ]
  },
  {
   "cell_type": "markdown",
   "metadata": {
    "id": "Li7hMv9yO278"
   },
   "source": [
    "**Observation:**\n",
    "<p>\n",
    "XGBoost didn’t worked well on the dataset gave lower accuracy and poor test recall score.\n",
    "</p>"
   ]
  },
  {
   "cell_type": "markdown",
   "metadata": {
    "id": "rL2IkZhXz8T0"
   },
   "source": [
    "### Stacking Classifier"
   ]
  },
  {
   "cell_type": "code",
   "execution_count": 146,
   "metadata": {
    "id": "JhwYNawQ0Alp"
   },
   "outputs": [],
   "source": [
    "estimators=[('Decision Tree', dtree),('Random Forest', rf_estimator),('Tuned XGBoost',xgb_tuned),\n",
    "           ('Bagging Classifier', bagging_classifier)]\n",
    "final_estimator=XGBClassifier(random_state=1,eval_metric='logloss')"
   ]
  },
  {
   "cell_type": "code",
   "execution_count": 147,
   "metadata": {
    "colab": {
     "base_uri": "https://localhost:8080/"
    },
    "id": "SKME9weh0CzV",
    "outputId": "5aff5770-52fc-447f-f9ac-eb76fb77615a"
   },
   "outputs": [
    {
     "data": {
      "text/plain": [
       "StackingClassifier(cv=5,\n",
       "                   estimators=[('Decision Tree',\n",
       "                                DecisionTreeClassifier(class_weight={0: 0.2,\n",
       "                                                                     1: 0.8},\n",
       "                                                       random_state=1)),\n",
       "                               ('Random Forest',\n",
       "                                RandomForestClassifier(random_state=4)),\n",
       "                               ('Tuned XGBoost',\n",
       "                                XGBClassifier(colsample_bylevel=0.5,\n",
       "                                              eval_metric='logloss',\n",
       "                                              learning_rate=0.5,\n",
       "                                              n_estimators=50, random_state=1,\n",
       "                                              scale_pos_weight=5)),\n",
       "                               ('Bagging Classifier',\n",
       "                                BaggingClassifier(random_state=1, verbose=1))],\n",
       "                   final_estimator=XGBClassifier(eval_metric='logloss',\n",
       "                                                 random_state=1),\n",
       "                   n_jobs=-1)"
      ]
     },
     "execution_count": 147,
     "metadata": {},
     "output_type": "execute_result"
    }
   ],
   "source": [
    "stacking_estimator=StackingClassifier(estimators=estimators, final_estimator=final_estimator,cv=5,n_jobs=-1)\n",
    "stacking_estimator.fit(X_train,y_train)"
   ]
  },
  {
   "cell_type": "code",
   "execution_count": 148,
   "metadata": {
    "colab": {
     "base_uri": "https://localhost:8080/",
     "height": 700
    },
    "id": "xEPflgXi0E8p",
    "outputId": "c46c73a0-21a7-4583-c8fd-a8e6912a144c"
   },
   "outputs": [
    {
     "name": "stderr",
     "output_type": "stream",
     "text": [
      "[Parallel(n_jobs=1)]: Using backend SequentialBackend with 1 concurrent workers.\n",
      "[Parallel(n_jobs=1)]: Done   1 out of   1 | elapsed:    0.0s finished\n",
      "[Parallel(n_jobs=1)]: Using backend SequentialBackend with 1 concurrent workers.\n",
      "[Parallel(n_jobs=1)]: Done   1 out of   1 | elapsed:    0.0s finished\n"
     ]
    },
    {
     "data": {
      "text/html": [
       "<div>\n",
       "<style scoped>\n",
       "    .dataframe tbody tr th:only-of-type {\n",
       "        vertical-align: middle;\n",
       "    }\n",
       "\n",
       "    .dataframe tbody tr th {\n",
       "        vertical-align: top;\n",
       "    }\n",
       "\n",
       "    .dataframe thead th {\n",
       "        text-align: right;\n",
       "    }\n",
       "</style>\n",
       "<table border=\"1\" class=\"dataframe\">\n",
       "  <thead>\n",
       "    <tr style=\"text-align: right;\">\n",
       "      <th>Metric</th>\n",
       "      <th>Train_Accuracy</th>\n",
       "      <th>Test_Accuracy</th>\n",
       "      <th>Train_Recall</th>\n",
       "      <th>Test_Recall</th>\n",
       "      <th>Train_Precision</th>\n",
       "      <th>Test_Precision</th>\n",
       "      <th>Train_F1-Score</th>\n",
       "      <th>Test_F1-Score</th>\n",
       "    </tr>\n",
       "  </thead>\n",
       "  <tbody>\n",
       "    <tr>\n",
       "      <th>Score</th>\n",
       "      <td>1.0</td>\n",
       "      <td>0.907787</td>\n",
       "      <td>1.0</td>\n",
       "      <td>0.67029</td>\n",
       "      <td>1.0</td>\n",
       "      <td>0.80786</td>\n",
       "      <td>1.0</td>\n",
       "      <td>0.732673</td>\n",
       "    </tr>\n",
       "  </tbody>\n",
       "</table>\n",
       "</div>"
      ],
      "text/plain": [
       "Metric  Train_Accuracy  Test_Accuracy  ...  Train_F1-Score  Test_F1-Score\n",
       "Score              1.0       0.907787  ...             1.0       0.732673\n",
       "\n",
       "[1 rows x 8 columns]"
      ]
     },
     "metadata": {},
     "output_type": "display_data"
    },
    {
     "data": {
      "image/png": "[encoded data removed]",
      "text/plain": [
       "<Figure size 432x288 with 2 Axes>"
      ]
     },
     "metadata": {
      "needs_background": "light"
     },
     "output_type": "display_data"
    },
    {
     "data": {
      "image/png": "[encoded data removed]",
      "text/plain": [
       "<Figure size 432x288 with 2 Axes>"
      ]
     },
     "metadata": {
      "needs_background": "light"
     },
     "output_type": "display_data"
    }
   ],
   "source": [
    "stacking_estimator=get_metrics_score(stacking_estimator,X_train,X_test,y_train,y_test)\n",
    "add_score_model(stacking_estimator)"
   ]
  },
  {
   "cell_type": "markdown",
   "metadata": {
    "id": "XmSYKS_7Pgzq"
   },
   "source": [
    "**Observation**\n",
    "<p> \n",
    "As we know, stacking combines several different models and create a final meta model. Here, stacking of Decision Tree, Random Forest, Tuned XGBoost and Bagging classifier is done as these models have higher recall score. Stacking gave highest accuracy score than all previously seen models. But recall score reduced slightly.\n",
    "\n",
    "</p>"
   ]
  },
  {
   "cell_type": "markdown",
   "metadata": {
    "id": "Ui4qHHbjgAvm"
   },
   "source": [
    "## Hyperparameter Tuning\n",
    "### Tuning of XGBoost Classifier"
   ]
  },
  {
   "cell_type": "code",
   "execution_count": 136,
   "metadata": {
    "id": "ghBC46ysi6PP"
   },
   "outputs": [],
   "source": [
    "from sklearn.metrics import r2_score\n",
    "from sklearn.metrics import accuracy_score\n",
    "from hyperopt import STATUS_OK, Trials, fmin, hp, tpe\n",
    "from sklearn.metrics import mean_absolute_error"
   ]
  },
  {
   "cell_type": "code",
   "execution_count": 141,
   "metadata": {
    "id": "j-dkFF_PNaXa"
   },
   "outputs": [],
   "source": [
    "xgb_tuned = XGBClassifier(random_state=1,eval_metric='logloss')\n",
    "\n",
    "# Grid of parameters to choose from\n",
    "## add from\n",
    "parameters = {\n",
    "    \"n_estimators\": np.arange(10,100,20),\n",
    "    \"scale_pos_weight\":[0,5],\n",
    "    \"colsample_bylevel\":[0.5,1],\n",
    "    \"learning_rate\":[0.001,0.01,0.1,0.5]\n",
    "}\n",
    "# Type of scoring used to compare parameter combinations\n",
    "acc_scorer = metrics.make_scorer(metrics.recall_score)\n",
    "\n",
    "# Run the grid search\n",
    "grid_obj = GridSearchCV(xgb_tuned, parameters,scoring=acc_scorer,cv=5,n_jobs=-1)\n",
    "grid_obj = grid_obj.fit(X_train, y_train)\n",
    "\n",
    "# Set the clf to the best combination of parameters\n",
    "xgb_tuned = grid_obj.best_estimator_"
   ]
  },
  {
   "cell_type": "code",
   "execution_count": 142,
   "metadata": {
    "colab": {
     "base_uri": "https://localhost:8080/"
    },
    "id": "BsvQo6JDjUYB",
    "outputId": "f39a6b47-36e0-48de-dbc3-3c4d9d22d558"
   },
   "outputs": [
    {
     "data": {
      "text/plain": [
       "XGBClassifier(colsample_bylevel=0.5, eval_metric='logloss', learning_rate=0.5,\n",
       "              n_estimators=50, random_state=1, scale_pos_weight=5)"
      ]
     },
     "execution_count": 142,
     "metadata": {},
     "output_type": "execute_result"
    }
   ],
   "source": [
    "xgb_tuned.fit(X_train,y_train)"
   ]
  },
  {
   "cell_type": "code",
   "execution_count": 143,
   "metadata": {
    "colab": {
     "base_uri": "https://localhost:8080/",
     "height": 630
    },
    "id": "gGCOYBtNj02O",
    "outputId": "38893806-9806-45d5-a1ec-2354510a27d6"
   },
   "outputs": [
    {
     "data": {
      "text/html": [
       "<div>\n",
       "<style scoped>\n",
       "    .dataframe tbody tr th:only-of-type {\n",
       "        vertical-align: middle;\n",
       "    }\n",
       "\n",
       "    .dataframe tbody tr th {\n",
       "        vertical-align: top;\n",
       "    }\n",
       "\n",
       "    .dataframe thead th {\n",
       "        text-align: right;\n",
       "    }\n",
       "</style>\n",
       "<table border=\"1\" class=\"dataframe\">\n",
       "  <thead>\n",
       "    <tr style=\"text-align: right;\">\n",
       "      <th>Metric</th>\n",
       "      <th>Train_Accuracy</th>\n",
       "      <th>Test_Accuracy</th>\n",
       "      <th>Train_Recall</th>\n",
       "      <th>Test_Recall</th>\n",
       "      <th>Train_Precision</th>\n",
       "      <th>Test_Precision</th>\n",
       "      <th>Train_F1-Score</th>\n",
       "      <th>Test_F1-Score</th>\n",
       "    </tr>\n",
       "  </thead>\n",
       "  <tbody>\n",
       "    <tr>\n",
       "      <th>Score</th>\n",
       "      <td>0.833626</td>\n",
       "      <td>0.773224</td>\n",
       "      <td>0.861371</td>\n",
       "      <td>0.717391</td>\n",
       "      <td>0.535853</td>\n",
       "      <td>0.438053</td>\n",
       "      <td>0.660693</td>\n",
       "      <td>0.543956</td>\n",
       "    </tr>\n",
       "  </tbody>\n",
       "</table>\n",
       "</div>"
      ],
      "text/plain": [
       "Metric  Train_Accuracy  Test_Accuracy  ...  Train_F1-Score  Test_F1-Score\n",
       "Score         0.833626       0.773224  ...        0.660693       0.543956\n",
       "\n",
       "[1 rows x 8 columns]"
      ]
     },
     "metadata": {},
     "output_type": "display_data"
    },
    {
     "data": {
      "image/png": "[encoded data removed]",
      "text/plain": [
       "<Figure size 432x288 with 2 Axes>"
      ]
     },
     "metadata": {
      "needs_background": "light"
     },
     "output_type": "display_data"
    },
    {
     "data": {
      "image/png": "[encoded data removed]",
      "text/plain": [
       "<Figure size 432x288 with 2 Axes>"
      ]
     },
     "metadata": {
      "needs_background": "light"
     },
     "output_type": "display_data"
    }
   ],
   "source": [
    "xgb_tuned_score=get_metrics_score(xgb_tuned,X_train,X_test,y_train,y_test)\n",
    "add_score_model(xgb_tuned_score)"
   ]
  },
  {
   "cell_type": "markdown",
   "metadata": {
    "id": "vpR7UrF8PJn1"
   },
   "source": [
    "**Observation:**\n",
    "<p>\n",
    "Hyperparameter Tuning helps to perfect architecture of the model. Here, Tuning XGBoost gave decent accuracy score and improved test recall score. Tuned XGBoost is gave highest recall score among the previously seen models\n",
    "</p>"
   ]
  },
  {
   "cell_type": "markdown",
   "metadata": {
    "id": "xHSYomxQyaA3"
   },
   "source": [
    "### Tuning Bagging Classifier"
   ]
  },
  {
   "cell_type": "code",
   "execution_count": 144,
   "metadata": {
    "colab": {
     "base_uri": "https://localhost:8080/"
    },
    "id": "Vi9pMFxjyiL3",
    "outputId": "1dfe4453-71d6-4fe0-e4a5-95cdae375e81"
   },
   "outputs": [
    {
     "data": {
      "text/plain": [
       "BaggingClassifier(base_estimator=DecisionTreeClassifier(class_weight={0: 0.2,\n",
       "                                                                      1: 0.8},\n",
       "                                                        random_state=1),\n",
       "                  max_features=0.9, max_samples=0.9, n_estimators=100,\n",
       "                  random_state=1)"
      ]
     },
     "execution_count": 144,
     "metadata": {},
     "output_type": "execute_result"
    }
   ],
   "source": [
    "# Choose the type of classifier. \n",
    "\n",
    "bagging_estimator_tuned = BaggingClassifier(dtree ,random_state=1)\n",
    "\n",
    "# Grid of parameters to choose from\n",
    "parameters = {'max_samples': [0.7,0.8,0.9,1], \n",
    "              'max_features': [0.7,0.8,0.9,1],\n",
    "              'n_estimators' : [10,20,30,40,50,100],\n",
    "             }\n",
    "# Type of scoring used to compare parameter combinations\n",
    "acc_scorer = metrics.make_scorer(metrics.recall_score)\n",
    "\n",
    "# Run the grid search\n",
    "grid_obj = GridSearchCV(bagging_estimator_tuned, parameters, scoring=acc_scorer,cv=5)\n",
    "grid_obj = grid_obj.fit(X_train, y_train)\n",
    "\n",
    "# Set the clf to the best combination of parameters\n",
    "bagging_estimator_tuned = grid_obj.best_estimator_\n",
    "\n",
    "# Fit the best algorithm to the data.\n",
    "bagging_estimator_tuned.fit(X_train, y_train)"
   ]
  },
  {
   "cell_type": "code",
   "execution_count": 145,
   "metadata": {
    "colab": {
     "base_uri": "https://localhost:8080/",
     "height": 630
    },
    "id": "TK51uOYzymNF",
    "outputId": "e48a4f9e-917c-41c2-8eec-f260b41a5816"
   },
   "outputs": [
    {
     "data": {
      "text/html": [
       "<div>\n",
       "<style scoped>\n",
       "    .dataframe tbody tr th:only-of-type {\n",
       "        vertical-align: middle;\n",
       "    }\n",
       "\n",
       "    .dataframe tbody tr th {\n",
       "        vertical-align: top;\n",
       "    }\n",
       "\n",
       "    .dataframe thead th {\n",
       "        text-align: right;\n",
       "    }\n",
       "</style>\n",
       "<table border=\"1\" class=\"dataframe\">\n",
       "  <thead>\n",
       "    <tr style=\"text-align: right;\">\n",
       "      <th>Metric</th>\n",
       "      <th>Train_Accuracy</th>\n",
       "      <th>Test_Accuracy</th>\n",
       "      <th>Train_Recall</th>\n",
       "      <th>Test_Recall</th>\n",
       "      <th>Train_Precision</th>\n",
       "      <th>Test_Precision</th>\n",
       "      <th>Train_F1-Score</th>\n",
       "      <th>Test_F1-Score</th>\n",
       "    </tr>\n",
       "  </thead>\n",
       "  <tbody>\n",
       "    <tr>\n",
       "      <th>Score</th>\n",
       "      <td>1.0</td>\n",
       "      <td>0.892077</td>\n",
       "      <td>1.0</td>\n",
       "      <td>0.5</td>\n",
       "      <td>1.0</td>\n",
       "      <td>0.873418</td>\n",
       "      <td>1.0</td>\n",
       "      <td>0.635945</td>\n",
       "    </tr>\n",
       "  </tbody>\n",
       "</table>\n",
       "</div>"
      ],
      "text/plain": [
       "Metric  Train_Accuracy  Test_Accuracy  ...  Train_F1-Score  Test_F1-Score\n",
       "Score              1.0       0.892077  ...             1.0       0.635945\n",
       "\n",
       "[1 rows x 8 columns]"
      ]
     },
     "metadata": {},
     "output_type": "display_data"
    },
    {
     "data": {
      "image/png": "[encoded data removed]",
      "text/plain": [
       "<Figure size 432x288 with 2 Axes>"
      ]
     },
     "metadata": {
      "needs_background": "light"
     },
     "output_type": "display_data"
    },
    {
     "data": {
      "image/png": "[encoded data removed]",
      "text/plain": [
       "<Figure size 432x288 with 2 Axes>"
      ]
     },
     "metadata": {
      "needs_background": "light"
     },
     "output_type": "display_data"
    }
   ],
   "source": [
    "bagging_tuned=get_metrics_score(bagging_estimator_tuned,X_train,X_test,y_train,y_test)\n",
    "add_score_model(bagging_tuned)"
   ]
  },
  {
   "cell_type": "markdown",
   "metadata": {
    "id": "DuFRTBPmPUnX"
   },
   "source": [
    "**Observation:**\n",
    "<p>\n",
    "Tuned Bagging Classifier gives slightly higher accuracy score but recall score is reduced\n",
    "</p>"
   ]
  },
  {
   "cell_type": "markdown",
   "metadata": {
    "id": "MHbDgJ6F0pT0"
   },
   "source": [
    "<h2>Comparing All Models</h2>\n",
    "\n",
    "<p>\n",
    "In this problem statement, company wants to determine which customers could purchase their new travel packages range. Here, it is important to predict actual positives among all labelled positives. So, Test Recall score is important in our modelling\n",
    "</p>"
   ]
  },
  {
   "cell_type": "code",
   "execution_count": 149,
   "metadata": {
    "colab": {
     "base_uri": "https://localhost:8080/",
     "height": 269
    },
    "id": "NiE9OuPl006_",
    "outputId": "7f0506d8-0506-483c-fe0b-5be6fae3dc55"
   },
   "outputs": [
    {
     "data": {
      "text/html": [
       "<div>\n",
       "<style scoped>\n",
       "    .dataframe tbody tr th:only-of-type {\n",
       "        vertical-align: middle;\n",
       "    }\n",
       "\n",
       "    .dataframe tbody tr th {\n",
       "        vertical-align: top;\n",
       "    }\n",
       "\n",
       "    .dataframe thead th {\n",
       "        text-align: right;\n",
       "    }\n",
       "</style>\n",
       "<table border=\"1\" class=\"dataframe\">\n",
       "  <thead>\n",
       "    <tr style=\"text-align: right;\">\n",
       "      <th></th>\n",
       "      <th>Model</th>\n",
       "      <th>Train_Accuracy</th>\n",
       "      <th>Test_Accuracy</th>\n",
       "      <th>Train_Recall</th>\n",
       "      <th>Test_Recall</th>\n",
       "      <th>Train_Precision</th>\n",
       "      <th>Test_Precision</th>\n",
       "      <th>Train_F1</th>\n",
       "      <th>Test_F1</th>\n",
       "    </tr>\n",
       "  </thead>\n",
       "  <tbody>\n",
       "    <tr>\n",
       "      <th>4</th>\n",
       "      <td>Tuned XGboost</td>\n",
       "      <td>0.833626</td>\n",
       "      <td>0.773224</td>\n",
       "      <td>0.861371</td>\n",
       "      <td>0.717391</td>\n",
       "      <td>0.535853</td>\n",
       "      <td>0.438053</td>\n",
       "      <td>0.660693</td>\n",
       "      <td>0.543956</td>\n",
       "    </tr>\n",
       "    <tr>\n",
       "      <th>6</th>\n",
       "      <td>Stacking</td>\n",
       "      <td>1.000000</td>\n",
       "      <td>0.907787</td>\n",
       "      <td>1.000000</td>\n",
       "      <td>0.670290</td>\n",
       "      <td>1.000000</td>\n",
       "      <td>0.807860</td>\n",
       "      <td>1.000000</td>\n",
       "      <td>0.732673</td>\n",
       "    </tr>\n",
       "    <tr>\n",
       "      <th>0</th>\n",
       "      <td>Decision Tree</td>\n",
       "      <td>1.000000</td>\n",
       "      <td>0.864754</td>\n",
       "      <td>1.000000</td>\n",
       "      <td>0.605072</td>\n",
       "      <td>1.000000</td>\n",
       "      <td>0.652344</td>\n",
       "      <td>1.000000</td>\n",
       "      <td>0.627820</td>\n",
       "    </tr>\n",
       "    <tr>\n",
       "      <th>1</th>\n",
       "      <td>Bagging Classifier</td>\n",
       "      <td>0.990334</td>\n",
       "      <td>0.891393</td>\n",
       "      <td>0.953271</td>\n",
       "      <td>0.532609</td>\n",
       "      <td>0.995122</td>\n",
       "      <td>0.830508</td>\n",
       "      <td>0.973747</td>\n",
       "      <td>0.649007</td>\n",
       "    </tr>\n",
       "    <tr>\n",
       "      <th>2</th>\n",
       "      <td>Random Forest</td>\n",
       "      <td>1.000000</td>\n",
       "      <td>0.892077</td>\n",
       "      <td>1.000000</td>\n",
       "      <td>0.500000</td>\n",
       "      <td>1.000000</td>\n",
       "      <td>0.873418</td>\n",
       "      <td>1.000000</td>\n",
       "      <td>0.635945</td>\n",
       "    </tr>\n",
       "    <tr>\n",
       "      <th>5</th>\n",
       "      <td>Tuned Bagging Classifier</td>\n",
       "      <td>1.000000</td>\n",
       "      <td>0.892077</td>\n",
       "      <td>1.000000</td>\n",
       "      <td>0.500000</td>\n",
       "      <td>1.000000</td>\n",
       "      <td>0.873418</td>\n",
       "      <td>1.000000</td>\n",
       "      <td>0.635945</td>\n",
       "    </tr>\n",
       "    <tr>\n",
       "      <th>3</th>\n",
       "      <td>XGboost</td>\n",
       "      <td>0.871705</td>\n",
       "      <td>0.858607</td>\n",
       "      <td>0.400312</td>\n",
       "      <td>0.355072</td>\n",
       "      <td>0.829032</td>\n",
       "      <td>0.771654</td>\n",
       "      <td>0.539916</td>\n",
       "      <td>0.486352</td>\n",
       "    </tr>\n",
       "  </tbody>\n",
       "</table>\n",
       "</div>"
      ],
      "text/plain": [
       "                      Model  Train_Accuracy  ...  Train_F1   Test_F1\n",
       "4             Tuned XGboost        0.833626  ...  0.660693  0.543956\n",
       "6                  Stacking        1.000000  ...  1.000000  0.732673\n",
       "0             Decision Tree        1.000000  ...  1.000000  0.627820\n",
       "1        Bagging Classifier        0.990334  ...  0.973747  0.649007\n",
       "2             Random Forest        1.000000  ...  1.000000  0.635945\n",
       "5  Tuned Bagging Classifier        1.000000  ...  1.000000  0.635945\n",
       "3                   XGboost        0.871705  ...  0.539916  0.486352\n",
       "\n",
       "[7 rows x 9 columns]"
      ]
     },
     "execution_count": 149,
     "metadata": {},
     "output_type": "execute_result"
    }
   ],
   "source": [
    "comparison_frame = pd.DataFrame({'Model':['Decision Tree',\n",
    "                                          'Bagging Classifier',\n",
    "                                          'Random Forest',\n",
    "                                          'XGboost',\n",
    "                                          'Tuned XGboost',\n",
    "                                          'Tuned Bagging Classifier',\n",
    "                                          'Stacking'\n",
    "                                          ], \n",
    "                                          'Train_Accuracy': acc_train,'Test_Accuracy': acc_test,\n",
    "                                          'Train_Recall':recall_train,'Test_Recall':recall_test,\n",
    "                                          'Train_Precision':precision_train,'Test_Precision':precision_test,\n",
    "                                           'Train_F1':f1_train,\n",
    "                                          'Test_F1':f1_test  }) \n",
    "\n",
    "# Sorting models in decreasing order of test recall\n",
    "comparison_frame.sort_values(by='Test_Recall',ascending=False)"
   ]
  },
  {
   "cell_type": "code",
   "execution_count": 154,
   "metadata": {
    "colab": {
     "base_uri": "https://localhost:8080/",
     "height": 372
    },
    "id": "lSGLhc3hQf4w",
    "outputId": "6631dcc5-cf66-41e2-9e6c-3a3fd6e0126c"
   },
   "outputs": [
    {
     "data": {
      "image/png": "[encoded data removed]",
      "text/plain": [
       "<Figure size 432x288 with 1 Axes>"
      ]
     },
     "metadata": {
      "needs_background": "light"
     },
     "output_type": "display_data"
    }
   ],
   "source": [
    "# Comparing test_recall scores of all models\n",
    "fig = plt.figure()\n",
    "ax = fig.add_axes([0,0,1,1])\n",
    "labels = ['Decision Tree', 'Bagging', 'Random Forest', 'XGboost', 'Tuned XGboost', 'Tuned Bagging', 'Stacking']\n",
    "recall_data = recall_test\n",
    "ax.bar(labels, recall_data, width=0.7) \n",
    "plt.xticks(rotation=30)\n",
    "plt.show()"
   ]
  },
  {
   "cell_type": "markdown",
   "metadata": {
    "id": "z141aEwqP4nQ"
   },
   "source": [
    "<h2>Conclusion</h2>\n",
    "<p>When a machine learning model is applied on any dataset, it can overfit, or it can have high variance or high bias. In either case, it won’t give best possible results. Ensembles Techniques such Bagging, Boosting and Stacking, help to overcome all these problems. Boosting builds a strong classifier from the number of base learners. Bagging combines the bootstrap and aggregation, and it is represented as a parallel ensemble method. Stacking combines independent learners to make a meta learner. Moreover, hyperparameter tuning helps in perfecting a machine learning model to solve a particular problem in real world. </p> \n",
    "<p>This paper illustrated, ensemble techniques and hyperparameter tuning by solving a business problem of a travel company. As per the business need, recall is the right metric to evaluate all machine learning models. As per our experimental results, Tuned XGBoost gave best results. Tuned XGBoost can help company to leverage the available data of existing and potential customers in order to make marketing expenditure more efficient. </p>"
   ]
  },
  {
   "cell_type": "code",
   "execution_count": null,
   "metadata": {},
   "outputs": [],
   "source": []
  }
 ],
 "metadata": {
  "colab": {
   "collapsed_sections": [],
   "name": "ensemble-techniques-hyper-parameter-tuning.ipynb",
   "provenance": []
  },
  "kernelspec": {
   "display_name": "Python 3",
   "language": "python",
   "name": "python3"
  },
  "language_info": {
   "codemirror_mode": {
    "name": "ipython",
    "version": 3
   },
   "file_extension": ".py",
   "mimetype": "text/x-python",
   "name": "python",
   "nbconvert_exporter": "python",
   "pygments_lexer": "ipython3",
   "version": "3.7.3"
  }
 },
 "nbformat": 4,
 "nbformat_minor": 1
}
